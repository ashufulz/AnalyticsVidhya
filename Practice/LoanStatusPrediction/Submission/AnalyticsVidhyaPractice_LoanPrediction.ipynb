{
  "nbformat": 4,
  "nbformat_minor": 0,
  "metadata": {
    "colab": {
      "name": "AnalyticsVidhyaPractice_LoanPrediction.ipynb",
      "provenance": [],
      "collapsed_sections": []
    },
    "kernelspec": {
      "display_name": "Python 3",
      "name": "python3"
    }
  },
  "cells": [
    {
      "cell_type": "markdown",
      "metadata": {
        "id": "BcCYoc2S7qNT"
      },
      "source": [
        "#Predict Loan Eligibility for Dream Housing Finance company"
      ]
    },
    {
      "cell_type": "markdown",
      "metadata": {
        "id": "thWUojA27iIZ"
      },
      "source": [
        "Dream Housing Finance company deals in all kinds of home loans. They have presence across all urban, semi urban and rural areas. Customer first applies for home loan and after that company validates the customer eligibility for loan.\r\n",
        "\r\n",
        "Company wants to automate the loan eligibility process (real time) based on customer detail provided while filling online application form. These details are Gender, Marital Status, Education, Number of Dependents, Income, Loan Amount, Credit History and others. To automate this process, they have provided a dataset to identify the customers segments that are eligible for loan amount so that they can specifically target these customers."
      ]
    },
    {
      "cell_type": "code",
      "metadata": {
        "id": "33Ti3Qrx6Ove"
      },
      "source": [
        "# Importing required basic libraries\r\n",
        "\r\n",
        "import numpy as np\r\n",
        "import pandas as pd"
      ],
      "execution_count": 1,
      "outputs": []
    },
    {
      "cell_type": "code",
      "metadata": {
        "id": "lo2TQXhN8Jrg"
      },
      "source": [
        "# Loading Train dataset\r\n",
        "df_train = pd.read_csv('/content/drive/MyDrive/DataScience/Dataset/_CHALLENGES_/AnalyticsVidhya/PRACTICE/LoanPrediction/AV_train_ctrUa4K.csv')"
      ],
      "execution_count": 2,
      "outputs": []
    },
    {
      "cell_type": "markdown",
      "metadata": {
        "id": "I28eL0148f7J"
      },
      "source": [
        "# EDA"
      ]
    },
    {
      "cell_type": "code",
      "metadata": {
        "colab": {
          "base_uri": "https://localhost:8080/"
        },
        "id": "iu21JvG-8Zqj",
        "outputId": "923c3df3-2705-46a2-facc-72b9545daa9c"
      },
      "source": [
        "df_train.shape"
      ],
      "execution_count": 3,
      "outputs": [
        {
          "output_type": "execute_result",
          "data": {
            "text/plain": [
              "(614, 13)"
            ]
          },
          "metadata": {
            "tags": []
          },
          "execution_count": 3
        }
      ]
    },
    {
      "cell_type": "code",
      "metadata": {
        "colab": {
          "base_uri": "https://localhost:8080/",
          "height": 241
        },
        "id": "rzeZSA1P8kZl",
        "outputId": "e0aae049-c72d-4594-abda-3395dd86ecf6"
      },
      "source": [
        "df_train.head()"
      ],
      "execution_count": 4,
      "outputs": [
        {
          "output_type": "execute_result",
          "data": {
            "text/html": [
              "<div>\n",
              "<style scoped>\n",
              "    .dataframe tbody tr th:only-of-type {\n",
              "        vertical-align: middle;\n",
              "    }\n",
              "\n",
              "    .dataframe tbody tr th {\n",
              "        vertical-align: top;\n",
              "    }\n",
              "\n",
              "    .dataframe thead th {\n",
              "        text-align: right;\n",
              "    }\n",
              "</style>\n",
              "<table border=\"1\" class=\"dataframe\">\n",
              "  <thead>\n",
              "    <tr style=\"text-align: right;\">\n",
              "      <th></th>\n",
              "      <th>Loan_ID</th>\n",
              "      <th>Gender</th>\n",
              "      <th>Married</th>\n",
              "      <th>Dependents</th>\n",
              "      <th>Education</th>\n",
              "      <th>Self_Employed</th>\n",
              "      <th>ApplicantIncome</th>\n",
              "      <th>CoapplicantIncome</th>\n",
              "      <th>LoanAmount</th>\n",
              "      <th>Loan_Amount_Term</th>\n",
              "      <th>Credit_History</th>\n",
              "      <th>Property_Area</th>\n",
              "      <th>Loan_Status</th>\n",
              "    </tr>\n",
              "  </thead>\n",
              "  <tbody>\n",
              "    <tr>\n",
              "      <th>0</th>\n",
              "      <td>LP001002</td>\n",
              "      <td>Male</td>\n",
              "      <td>No</td>\n",
              "      <td>0</td>\n",
              "      <td>Graduate</td>\n",
              "      <td>No</td>\n",
              "      <td>5849</td>\n",
              "      <td>0.0</td>\n",
              "      <td>NaN</td>\n",
              "      <td>360.0</td>\n",
              "      <td>1.0</td>\n",
              "      <td>Urban</td>\n",
              "      <td>Y</td>\n",
              "    </tr>\n",
              "    <tr>\n",
              "      <th>1</th>\n",
              "      <td>LP001003</td>\n",
              "      <td>Male</td>\n",
              "      <td>Yes</td>\n",
              "      <td>1</td>\n",
              "      <td>Graduate</td>\n",
              "      <td>No</td>\n",
              "      <td>4583</td>\n",
              "      <td>1508.0</td>\n",
              "      <td>128.0</td>\n",
              "      <td>360.0</td>\n",
              "      <td>1.0</td>\n",
              "      <td>Rural</td>\n",
              "      <td>N</td>\n",
              "    </tr>\n",
              "    <tr>\n",
              "      <th>2</th>\n",
              "      <td>LP001005</td>\n",
              "      <td>Male</td>\n",
              "      <td>Yes</td>\n",
              "      <td>0</td>\n",
              "      <td>Graduate</td>\n",
              "      <td>Yes</td>\n",
              "      <td>3000</td>\n",
              "      <td>0.0</td>\n",
              "      <td>66.0</td>\n",
              "      <td>360.0</td>\n",
              "      <td>1.0</td>\n",
              "      <td>Urban</td>\n",
              "      <td>Y</td>\n",
              "    </tr>\n",
              "    <tr>\n",
              "      <th>3</th>\n",
              "      <td>LP001006</td>\n",
              "      <td>Male</td>\n",
              "      <td>Yes</td>\n",
              "      <td>0</td>\n",
              "      <td>Not Graduate</td>\n",
              "      <td>No</td>\n",
              "      <td>2583</td>\n",
              "      <td>2358.0</td>\n",
              "      <td>120.0</td>\n",
              "      <td>360.0</td>\n",
              "      <td>1.0</td>\n",
              "      <td>Urban</td>\n",
              "      <td>Y</td>\n",
              "    </tr>\n",
              "    <tr>\n",
              "      <th>4</th>\n",
              "      <td>LP001008</td>\n",
              "      <td>Male</td>\n",
              "      <td>No</td>\n",
              "      <td>0</td>\n",
              "      <td>Graduate</td>\n",
              "      <td>No</td>\n",
              "      <td>6000</td>\n",
              "      <td>0.0</td>\n",
              "      <td>141.0</td>\n",
              "      <td>360.0</td>\n",
              "      <td>1.0</td>\n",
              "      <td>Urban</td>\n",
              "      <td>Y</td>\n",
              "    </tr>\n",
              "  </tbody>\n",
              "</table>\n",
              "</div>"
            ],
            "text/plain": [
              "    Loan_ID Gender Married  ... Credit_History Property_Area Loan_Status\n",
              "0  LP001002   Male      No  ...            1.0         Urban           Y\n",
              "1  LP001003   Male     Yes  ...            1.0         Rural           N\n",
              "2  LP001005   Male     Yes  ...            1.0         Urban           Y\n",
              "3  LP001006   Male     Yes  ...            1.0         Urban           Y\n",
              "4  LP001008   Male      No  ...            1.0         Urban           Y\n",
              "\n",
              "[5 rows x 13 columns]"
            ]
          },
          "metadata": {
            "tags": []
          },
          "execution_count": 4
        }
      ]
    },
    {
      "cell_type": "code",
      "metadata": {
        "id": "o6U-x3IH8mKW"
      },
      "source": [
        "# Dropping the irrelevant ID column\r\n",
        "df_train.drop(['Loan_ID'], axis=1, inplace=True)"
      ],
      "execution_count": 5,
      "outputs": []
    },
    {
      "cell_type": "code",
      "metadata": {
        "colab": {
          "base_uri": "https://localhost:8080/"
        },
        "id": "WcOiFKPA9XjY",
        "outputId": "8798f192-5fea-41a5-f8ce-6144176d1c9e"
      },
      "source": [
        "df_train.info()"
      ],
      "execution_count": 6,
      "outputs": [
        {
          "output_type": "stream",
          "text": [
            "<class 'pandas.core.frame.DataFrame'>\n",
            "RangeIndex: 614 entries, 0 to 613\n",
            "Data columns (total 12 columns):\n",
            " #   Column             Non-Null Count  Dtype  \n",
            "---  ------             --------------  -----  \n",
            " 0   Gender             601 non-null    object \n",
            " 1   Married            611 non-null    object \n",
            " 2   Dependents         599 non-null    object \n",
            " 3   Education          614 non-null    object \n",
            " 4   Self_Employed      582 non-null    object \n",
            " 5   ApplicantIncome    614 non-null    int64  \n",
            " 6   CoapplicantIncome  614 non-null    float64\n",
            " 7   LoanAmount         592 non-null    float64\n",
            " 8   Loan_Amount_Term   600 non-null    float64\n",
            " 9   Credit_History     564 non-null    float64\n",
            " 10  Property_Area      614 non-null    object \n",
            " 11  Loan_Status        614 non-null    object \n",
            "dtypes: float64(4), int64(1), object(7)\n",
            "memory usage: 57.7+ KB\n"
          ],
          "name": "stdout"
        }
      ]
    },
    {
      "cell_type": "code",
      "metadata": {
        "colab": {
          "base_uri": "https://localhost:8080/",
          "height": 297
        },
        "id": "7zHtoG_Y9aul",
        "outputId": "400926b3-8f59-44f8-df0e-cb258800d6f1"
      },
      "source": [
        "df_train.describe()"
      ],
      "execution_count": 7,
      "outputs": [
        {
          "output_type": "execute_result",
          "data": {
            "text/html": [
              "<div>\n",
              "<style scoped>\n",
              "    .dataframe tbody tr th:only-of-type {\n",
              "        vertical-align: middle;\n",
              "    }\n",
              "\n",
              "    .dataframe tbody tr th {\n",
              "        vertical-align: top;\n",
              "    }\n",
              "\n",
              "    .dataframe thead th {\n",
              "        text-align: right;\n",
              "    }\n",
              "</style>\n",
              "<table border=\"1\" class=\"dataframe\">\n",
              "  <thead>\n",
              "    <tr style=\"text-align: right;\">\n",
              "      <th></th>\n",
              "      <th>ApplicantIncome</th>\n",
              "      <th>CoapplicantIncome</th>\n",
              "      <th>LoanAmount</th>\n",
              "      <th>Loan_Amount_Term</th>\n",
              "      <th>Credit_History</th>\n",
              "    </tr>\n",
              "  </thead>\n",
              "  <tbody>\n",
              "    <tr>\n",
              "      <th>count</th>\n",
              "      <td>614.000000</td>\n",
              "      <td>614.000000</td>\n",
              "      <td>592.000000</td>\n",
              "      <td>600.00000</td>\n",
              "      <td>564.000000</td>\n",
              "    </tr>\n",
              "    <tr>\n",
              "      <th>mean</th>\n",
              "      <td>5403.459283</td>\n",
              "      <td>1621.245798</td>\n",
              "      <td>146.412162</td>\n",
              "      <td>342.00000</td>\n",
              "      <td>0.842199</td>\n",
              "    </tr>\n",
              "    <tr>\n",
              "      <th>std</th>\n",
              "      <td>6109.041673</td>\n",
              "      <td>2926.248369</td>\n",
              "      <td>85.587325</td>\n",
              "      <td>65.12041</td>\n",
              "      <td>0.364878</td>\n",
              "    </tr>\n",
              "    <tr>\n",
              "      <th>min</th>\n",
              "      <td>150.000000</td>\n",
              "      <td>0.000000</td>\n",
              "      <td>9.000000</td>\n",
              "      <td>12.00000</td>\n",
              "      <td>0.000000</td>\n",
              "    </tr>\n",
              "    <tr>\n",
              "      <th>25%</th>\n",
              "      <td>2877.500000</td>\n",
              "      <td>0.000000</td>\n",
              "      <td>100.000000</td>\n",
              "      <td>360.00000</td>\n",
              "      <td>1.000000</td>\n",
              "    </tr>\n",
              "    <tr>\n",
              "      <th>50%</th>\n",
              "      <td>3812.500000</td>\n",
              "      <td>1188.500000</td>\n",
              "      <td>128.000000</td>\n",
              "      <td>360.00000</td>\n",
              "      <td>1.000000</td>\n",
              "    </tr>\n",
              "    <tr>\n",
              "      <th>75%</th>\n",
              "      <td>5795.000000</td>\n",
              "      <td>2297.250000</td>\n",
              "      <td>168.000000</td>\n",
              "      <td>360.00000</td>\n",
              "      <td>1.000000</td>\n",
              "    </tr>\n",
              "    <tr>\n",
              "      <th>max</th>\n",
              "      <td>81000.000000</td>\n",
              "      <td>41667.000000</td>\n",
              "      <td>700.000000</td>\n",
              "      <td>480.00000</td>\n",
              "      <td>1.000000</td>\n",
              "    </tr>\n",
              "  </tbody>\n",
              "</table>\n",
              "</div>"
            ],
            "text/plain": [
              "       ApplicantIncome  CoapplicantIncome  ...  Loan_Amount_Term  Credit_History\n",
              "count       614.000000         614.000000  ...         600.00000      564.000000\n",
              "mean       5403.459283        1621.245798  ...         342.00000        0.842199\n",
              "std        6109.041673        2926.248369  ...          65.12041        0.364878\n",
              "min         150.000000           0.000000  ...          12.00000        0.000000\n",
              "25%        2877.500000           0.000000  ...         360.00000        1.000000\n",
              "50%        3812.500000        1188.500000  ...         360.00000        1.000000\n",
              "75%        5795.000000        2297.250000  ...         360.00000        1.000000\n",
              "max       81000.000000       41667.000000  ...         480.00000        1.000000\n",
              "\n",
              "[8 rows x 5 columns]"
            ]
          },
          "metadata": {
            "tags": []
          },
          "execution_count": 7
        }
      ]
    },
    {
      "cell_type": "markdown",
      "metadata": {
        "id": "yokYcTz3Ax6O"
      },
      "source": [
        "# DATA PREPROCESSING"
      ]
    },
    {
      "cell_type": "markdown",
      "metadata": {
        "id": "s0hvvaQK-aJn"
      },
      "source": [
        "## These are the categorical columns which we will need to convert into numerical forms through any of the encoding techniques."
      ]
    },
    {
      "cell_type": "code",
      "metadata": {
        "colab": {
          "base_uri": "https://localhost:8080/"
        },
        "id": "qEwodHKj9qzY",
        "outputId": "33a46aaf-e00a-486f-c009-ab2ba26986cb"
      },
      "source": [
        "df_train.select_dtypes(object).columns"
      ],
      "execution_count": 8,
      "outputs": [
        {
          "output_type": "execute_result",
          "data": {
            "text/plain": [
              "Index(['Gender', 'Married', 'Dependents', 'Education', 'Self_Employed',\n",
              "       'Property_Area', 'Loan_Status'],\n",
              "      dtype='object')"
            ]
          },
          "metadata": {
            "tags": []
          },
          "execution_count": 8
        }
      ]
    },
    {
      "cell_type": "markdown",
      "metadata": {
        "id": "m2BcU1sF-tap"
      },
      "source": [
        "### Let's see the values of each colummn one by one to understand the data better"
      ]
    },
    {
      "cell_type": "code",
      "metadata": {
        "colab": {
          "base_uri": "https://localhost:8080/"
        },
        "id": "bDWlyaXY-T1I",
        "outputId": "b81c8619-89be-47bc-ab33-830ed5a132df"
      },
      "source": [
        "print('Gender:', df_train.Gender.unique(), df_train.Gender.nunique())\r\n",
        "print('Married:', df_train.Married.unique(), df_train.Married.nunique())\r\n",
        "print('Dependents:', df_train.Dependents.unique(), df_train.Dependents.nunique())\r\n",
        "print('Education:', df_train.Education.unique(), df_train.Education.nunique())\r\n",
        "print('Self_Employed:', df_train.Self_Employed.unique(), df_train.Self_Employed.nunique())\r\n",
        "print('Property_Area:', df_train.Property_Area.unique(), df_train.Property_Area.nunique())\r\n",
        "print('Loan_Status:', df_train.Loan_Status.unique(), df_train.Loan_Status.nunique())"
      ],
      "execution_count": 9,
      "outputs": [
        {
          "output_type": "stream",
          "text": [
            "Gender: ['Male' 'Female' nan] 2\n",
            "Married: ['No' 'Yes' nan] 2\n",
            "Dependents: ['0' '1' '2' '3+' nan] 4\n",
            "Education: ['Graduate' 'Not Graduate'] 2\n",
            "Self_Employed: ['No' 'Yes' nan] 2\n",
            "Property_Area: ['Urban' 'Rural' 'Semiurban'] 3\n",
            "Loan_Status: ['Y' 'N'] 2\n"
          ],
          "name": "stdout"
        }
      ]
    },
    {
      "cell_type": "markdown",
      "metadata": {
        "id": "QcqbrMR5_gaN"
      },
      "source": [
        "### As seen we can see that there are 'nan' values also, which can be missing values."
      ]
    },
    {
      "cell_type": "code",
      "metadata": {
        "colab": {
          "base_uri": "https://localhost:8080/"
        },
        "id": "2eW9A1pc_KfN",
        "outputId": "34c0ba07-5872-467f-a324-f3a23c4b39ba"
      },
      "source": [
        "df_train.isna().sum()"
      ],
      "execution_count": 10,
      "outputs": [
        {
          "output_type": "execute_result",
          "data": {
            "text/plain": [
              "Gender               13\n",
              "Married               3\n",
              "Dependents           15\n",
              "Education             0\n",
              "Self_Employed        32\n",
              "ApplicantIncome       0\n",
              "CoapplicantIncome     0\n",
              "LoanAmount           22\n",
              "Loan_Amount_Term     14\n",
              "Credit_History       50\n",
              "Property_Area         0\n",
              "Loan_Status           0\n",
              "dtype: int64"
            ]
          },
          "metadata": {
            "tags": []
          },
          "execution_count": 10
        }
      ]
    },
    {
      "cell_type": "markdown",
      "metadata": {
        "id": "x6p1fiN6S7Ye"
      },
      "source": [
        "## Now we will fill the nan values according to the columns"
      ]
    },
    {
      "cell_type": "markdown",
      "metadata": {
        "id": "2Z0kpah0TC2O"
      },
      "source": [
        "### *Below are the categorical columns, hence we will be replacing the missing values with the mode of the respective columns*"
      ]
    },
    {
      "cell_type": "code",
      "metadata": {
        "id": "bLtK7FudToMr"
      },
      "source": [
        "df_train.Gender = df_train.Gender.fillna(df_train.Gender.mode()[0])\r\n",
        "df_train.Married = df_train.Married.fillna(df_train.Married.mode()[0])\r\n",
        "df_train.Dependents = df_train.Dependents.fillna(df_train.Dependents.mode()[0])\r\n",
        "df_train.Self_Employed = df_train.Self_Employed.fillna(df_train.Self_Employed.mode()[0])\r\n",
        "df_train.Loan_Amount_Term = df_train.Loan_Amount_Term.fillna(df_train.Loan_Amount_Term.mode()[0])\r\n",
        "df_train.Credit_History = df_train.Credit_History.fillna(df_train.Credit_History.mode()[0])"
      ],
      "execution_count": 11,
      "outputs": []
    },
    {
      "cell_type": "markdown",
      "metadata": {
        "id": "MAOEzc4ibEaf"
      },
      "source": [
        "### *Below is the numerical column where we will be replacing the missing values with the mean of that column*"
      ]
    },
    {
      "cell_type": "code",
      "metadata": {
        "id": "4RVDiui1X38Y"
      },
      "source": [
        "df_train.LoanAmount = df_train.LoanAmount.fillna(df_train.LoanAmount.mean())"
      ],
      "execution_count": 12,
      "outputs": []
    },
    {
      "cell_type": "markdown",
      "metadata": {
        "id": "CDMhG109dDlN"
      },
      "source": [
        "### As the categorical columns are random, we can't go with LabelEncoding on it.\r\n",
        "###We'll use OneHotEncoding\r\n",
        "Nominal data -> data is random -> OneHotEncoding"
      ]
    },
    {
      "cell_type": "code",
      "metadata": {
        "colab": {
          "base_uri": "https://localhost:8080/",
          "height": 241
        },
        "id": "bAG8mtPtqy3y",
        "outputId": "b584595a-5217-4550-f532-9856b4944eee"
      },
      "source": [
        "df_train.head()"
      ],
      "execution_count": 13,
      "outputs": [
        {
          "output_type": "execute_result",
          "data": {
            "text/html": [
              "<div>\n",
              "<style scoped>\n",
              "    .dataframe tbody tr th:only-of-type {\n",
              "        vertical-align: middle;\n",
              "    }\n",
              "\n",
              "    .dataframe tbody tr th {\n",
              "        vertical-align: top;\n",
              "    }\n",
              "\n",
              "    .dataframe thead th {\n",
              "        text-align: right;\n",
              "    }\n",
              "</style>\n",
              "<table border=\"1\" class=\"dataframe\">\n",
              "  <thead>\n",
              "    <tr style=\"text-align: right;\">\n",
              "      <th></th>\n",
              "      <th>Gender</th>\n",
              "      <th>Married</th>\n",
              "      <th>Dependents</th>\n",
              "      <th>Education</th>\n",
              "      <th>Self_Employed</th>\n",
              "      <th>ApplicantIncome</th>\n",
              "      <th>CoapplicantIncome</th>\n",
              "      <th>LoanAmount</th>\n",
              "      <th>Loan_Amount_Term</th>\n",
              "      <th>Credit_History</th>\n",
              "      <th>Property_Area</th>\n",
              "      <th>Loan_Status</th>\n",
              "    </tr>\n",
              "  </thead>\n",
              "  <tbody>\n",
              "    <tr>\n",
              "      <th>0</th>\n",
              "      <td>Male</td>\n",
              "      <td>No</td>\n",
              "      <td>0</td>\n",
              "      <td>Graduate</td>\n",
              "      <td>No</td>\n",
              "      <td>5849</td>\n",
              "      <td>0.0</td>\n",
              "      <td>146.412162</td>\n",
              "      <td>360.0</td>\n",
              "      <td>1.0</td>\n",
              "      <td>Urban</td>\n",
              "      <td>Y</td>\n",
              "    </tr>\n",
              "    <tr>\n",
              "      <th>1</th>\n",
              "      <td>Male</td>\n",
              "      <td>Yes</td>\n",
              "      <td>1</td>\n",
              "      <td>Graduate</td>\n",
              "      <td>No</td>\n",
              "      <td>4583</td>\n",
              "      <td>1508.0</td>\n",
              "      <td>128.000000</td>\n",
              "      <td>360.0</td>\n",
              "      <td>1.0</td>\n",
              "      <td>Rural</td>\n",
              "      <td>N</td>\n",
              "    </tr>\n",
              "    <tr>\n",
              "      <th>2</th>\n",
              "      <td>Male</td>\n",
              "      <td>Yes</td>\n",
              "      <td>0</td>\n",
              "      <td>Graduate</td>\n",
              "      <td>Yes</td>\n",
              "      <td>3000</td>\n",
              "      <td>0.0</td>\n",
              "      <td>66.000000</td>\n",
              "      <td>360.0</td>\n",
              "      <td>1.0</td>\n",
              "      <td>Urban</td>\n",
              "      <td>Y</td>\n",
              "    </tr>\n",
              "    <tr>\n",
              "      <th>3</th>\n",
              "      <td>Male</td>\n",
              "      <td>Yes</td>\n",
              "      <td>0</td>\n",
              "      <td>Not Graduate</td>\n",
              "      <td>No</td>\n",
              "      <td>2583</td>\n",
              "      <td>2358.0</td>\n",
              "      <td>120.000000</td>\n",
              "      <td>360.0</td>\n",
              "      <td>1.0</td>\n",
              "      <td>Urban</td>\n",
              "      <td>Y</td>\n",
              "    </tr>\n",
              "    <tr>\n",
              "      <th>4</th>\n",
              "      <td>Male</td>\n",
              "      <td>No</td>\n",
              "      <td>0</td>\n",
              "      <td>Graduate</td>\n",
              "      <td>No</td>\n",
              "      <td>6000</td>\n",
              "      <td>0.0</td>\n",
              "      <td>141.000000</td>\n",
              "      <td>360.0</td>\n",
              "      <td>1.0</td>\n",
              "      <td>Urban</td>\n",
              "      <td>Y</td>\n",
              "    </tr>\n",
              "  </tbody>\n",
              "</table>\n",
              "</div>"
            ],
            "text/plain": [
              "  Gender Married Dependents  ... Credit_History Property_Area  Loan_Status\n",
              "0   Male      No          0  ...            1.0         Urban            Y\n",
              "1   Male     Yes          1  ...            1.0         Rural            N\n",
              "2   Male     Yes          0  ...            1.0         Urban            Y\n",
              "3   Male     Yes          0  ...            1.0         Urban            Y\n",
              "4   Male      No          0  ...            1.0         Urban            Y\n",
              "\n",
              "[5 rows x 12 columns]"
            ]
          },
          "metadata": {
            "tags": []
          },
          "execution_count": 13
        }
      ]
    },
    {
      "cell_type": "code",
      "metadata": {
        "id": "8d3gPtoecyU6"
      },
      "source": [
        "# One hot encoding on categorical columns.\r\n",
        "df_train = pd.get_dummies(df_train, columns=['Gender','Married', 'Education', 'Self_Employed', 'Property_Area', 'Dependents', 'Loan_Amount_Term'], drop_first=True)"
      ],
      "execution_count": 14,
      "outputs": []
    },
    {
      "cell_type": "markdown",
      "metadata": {
        "id": "-V1y24xwtPM7"
      },
      "source": [
        "### *Replacing Y/N with 1/0 respectively*"
      ]
    },
    {
      "cell_type": "code",
      "metadata": {
        "id": "umgch9ISrZp8"
      },
      "source": [
        "df_train.Loan_Status = df_train.Loan_Status.replace('Y', '1')\r\n",
        "df_train.Loan_Status = df_train.Loan_Status.replace('N', '0')"
      ],
      "execution_count": 15,
      "outputs": []
    },
    {
      "cell_type": "markdown",
      "metadata": {
        "id": "3C-VWwurtayA"
      },
      "source": [
        "### *Here datatype of Loan_Status would still be object, so we need to convert it into numerical form*"
      ]
    },
    {
      "cell_type": "code",
      "metadata": {
        "id": "NG8buqNusfsX"
      },
      "source": [
        "df_train.Loan_Status = df_train.Loan_Status.astype(int)"
      ],
      "execution_count": 16,
      "outputs": []
    },
    {
      "cell_type": "markdown",
      "metadata": {
        "id": "rL5T9Ur1vNwy"
      },
      "source": [
        "### Scaling the data"
      ]
    },
    {
      "cell_type": "code",
      "metadata": {
        "id": "OUEICtkHspsF"
      },
      "source": [
        "from sklearn.preprocessing import StandardScaler\r\n",
        "sc = StandardScaler()\r\n",
        "\r\n",
        "cols_to_scale = ['ApplicantIncome', 'CoapplicantIncome', 'LoanAmount']\r\n",
        "df_train[cols_to_scale] = sc.fit_transform(df_train[cols_to_scale])"
      ],
      "execution_count": 17,
      "outputs": []
    },
    {
      "cell_type": "code",
      "metadata": {
        "id": "OWnEAVSB_O06"
      },
      "source": [
        "# Importing Visualization libraries\r\n",
        "import matplotlib.pyplot as plt\r\n",
        "import seaborn as sns"
      ],
      "execution_count": 18,
      "outputs": []
    },
    {
      "cell_type": "code",
      "metadata": {
        "colab": {
          "base_uri": "https://localhost:8080/",
          "height": 1000
        },
        "id": "gL4E59twuEJd",
        "outputId": "07318d7a-7c04-44b2-cd59-ba1f27d8a749"
      },
      "source": [
        "# Visualizing the correlation between the features\r\n",
        "\r\n",
        "plt.figure(figsize=(25, 25))\r\n",
        "sns.heatmap(df_train.corr(), annot=True, cmap='Blues')"
      ],
      "execution_count": 19,
      "outputs": [
        {
          "output_type": "execute_result",
          "data": {
            "text/plain": [
              "<matplotlib.axes._subplots.AxesSubplot at 0x7fb6b2000d10>"
            ]
          },
          "metadata": {
            "tags": []
          },
          "execution_count": 19
        },
        {
          "output_type": "display_data",
          "data": {
            "image/png": "[encoded data removed]",
            "text/plain": [
              "<Figure size 1800x1800 with 2 Axes>"
            ]
          },
          "metadata": {
            "tags": [],
            "needs_background": "light"
          }
        }
      ]
    },
    {
      "cell_type": "markdown",
      "metadata": {
        "id": "g8VTyw_PBSFO"
      },
      "source": [
        "# DEFINING THE VARIABLES"
      ]
    },
    {
      "cell_type": "code",
      "metadata": {
        "colab": {
          "base_uri": "https://localhost:8080/"
        },
        "id": "s--puWafBVI_",
        "outputId": "d98ed4bf-9b74-4964-82b5-aa580f0a919d"
      },
      "source": [
        "df_train.columns"
      ],
      "execution_count": 20,
      "outputs": [
        {
          "output_type": "execute_result",
          "data": {
            "text/plain": [
              "Index(['ApplicantIncome', 'CoapplicantIncome', 'LoanAmount', 'Credit_History',\n",
              "       'Loan_Status', 'Gender_Male', 'Married_Yes', 'Education_Not Graduate',\n",
              "       'Self_Employed_Yes', 'Property_Area_Semiurban', 'Property_Area_Urban',\n",
              "       'Dependents_1', 'Dependents_2', 'Dependents_3+',\n",
              "       'Loan_Amount_Term_36.0', 'Loan_Amount_Term_60.0',\n",
              "       'Loan_Amount_Term_84.0', 'Loan_Amount_Term_120.0',\n",
              "       'Loan_Amount_Term_180.0', 'Loan_Amount_Term_240.0',\n",
              "       'Loan_Amount_Term_300.0', 'Loan_Amount_Term_360.0',\n",
              "       'Loan_Amount_Term_480.0'],\n",
              "      dtype='object')"
            ]
          },
          "metadata": {
            "tags": []
          },
          "execution_count": 20
        }
      ]
    },
    {
      "cell_type": "code",
      "metadata": {
        "id": "KFYP2gJ-_NYQ"
      },
      "source": [
        "X = df_train.drop(['Loan_Status'], axis=1)        # Independant Variable / Features\r\n",
        "y = df_train['Loan_Status']                       # Dependant Variable / Target"
      ],
      "execution_count": 21,
      "outputs": []
    },
    {
      "cell_type": "markdown",
      "metadata": {
        "id": "VeyLRey5BqxS"
      },
      "source": [
        "## Getting important features"
      ]
    },
    {
      "cell_type": "code",
      "metadata": {
        "id": "4uQKpIxkBop5",
        "colab": {
          "base_uri": "https://localhost:8080/"
        },
        "outputId": "32d172da-6419-4b8e-a782-80418ea8a8e0"
      },
      "source": [
        "from sklearn.ensemble import ExtraTreesRegressor\r\n",
        "\r\n",
        "model = ExtraTreesRegressor()\r\n",
        "model.fit(X, y)"
      ],
      "execution_count": 22,
      "outputs": [
        {
          "output_type": "execute_result",
          "data": {
            "text/plain": [
              "ExtraTreesRegressor(bootstrap=False, ccp_alpha=0.0, criterion='mse',\n",
              "                    max_depth=None, max_features='auto', max_leaf_nodes=None,\n",
              "                    max_samples=None, min_impurity_decrease=0.0,\n",
              "                    min_impurity_split=None, min_samples_leaf=1,\n",
              "                    min_samples_split=2, min_weight_fraction_leaf=0.0,\n",
              "                    n_estimators=100, n_jobs=None, oob_score=False,\n",
              "                    random_state=None, verbose=0, warm_start=False)"
            ]
          },
          "metadata": {
            "tags": []
          },
          "execution_count": 22
        }
      ]
    },
    {
      "cell_type": "code",
      "metadata": {
        "id": "EjKX6IrKBxGT",
        "colab": {
          "base_uri": "https://localhost:8080/"
        },
        "outputId": "e114f6a3-3865-4537-a2eb-f1a53807e34f"
      },
      "source": [
        "# Getting the important features\r\n",
        "model.feature_importances_"
      ],
      "execution_count": 23,
      "outputs": [
        {
          "output_type": "execute_result",
          "data": {
            "text/plain": [
              "array([0.16289129, 0.12037109, 0.17531218, 0.29220087, 0.02309593,\n",
              "       0.02832983, 0.0251549 , 0.02745774, 0.01521954, 0.01641163,\n",
              "       0.02241988, 0.02023955, 0.01574463, 0.0113822 , 0.00039873,\n",
              "       0.0027638 , 0.0006656 , 0.0106096 , 0.00247704, 0.00361865,\n",
              "       0.01362756, 0.00960775])"
            ]
          },
          "metadata": {
            "tags": []
          },
          "execution_count": 23
        }
      ]
    },
    {
      "cell_type": "code",
      "metadata": {
        "id": "llhVuDnWBzg4",
        "colab": {
          "base_uri": "https://localhost:8080/",
          "height": 483
        },
        "outputId": "10992a2b-92a5-4092-c230-85534fe597d7"
      },
      "source": [
        "# Visualizing Important Features\r\n",
        "plt.figure(figsize=(12,8))\r\n",
        "impft = pd.Series(model.feature_importances_, index=X.columns)\r\n",
        "impft.nlargest(20).plot(kind='barh')\r\n",
        "plt.show()"
      ],
      "execution_count": 24,
      "outputs": [
        {
          "output_type": "display_data",
          "data": {
            "image/png": "[encoded data removed]",
            "text/plain": [
              "<Figure size 864x576 with 1 Axes>"
            ]
          },
          "metadata": {
            "tags": [],
            "needs_background": "light"
          }
        }
      ]
    },
    {
      "cell_type": "markdown",
      "metadata": {
        "id": "KKfTLW9XCQN9"
      },
      "source": [
        "### So we can finally say that Credit History of the person plays an important role whether he/she is eligible for loan or not. Along with that the person's income, the co-partner's income(incase of joint account) and lastly the Loan Amount is also very much important."
      ]
    },
    {
      "cell_type": "markdown",
      "metadata": {
        "id": "na3Wuy4ODIMB"
      },
      "source": [
        "# **BUILDING MODEL**\r\n",
        "---"
      ]
    },
    {
      "cell_type": "code",
      "metadata": {
        "id": "V465KgBBB44m"
      },
      "source": [
        "# Dividing the data into train and test\r\n",
        "from sklearn.model_selection import train_test_split\r\n",
        "X_train, X_test, y_train, y_test = train_test_split(X, y, test_size = 0.20, random_state = 42)      # 80% train data, 20% test data"
      ],
      "execution_count": 25,
      "outputs": []
    },
    {
      "cell_type": "code",
      "metadata": {
        "id": "UswTek7gDgBx"
      },
      "source": [
        "# As only 'Accuracy' value will be used to judge the results, we'll import that\r\n",
        "# from sklearn.model_selection import cross_val_score\r\n",
        "from sklearn.metrics import accuracy_score"
      ],
      "execution_count": 26,
      "outputs": []
    },
    {
      "cell_type": "code",
      "metadata": {
        "id": "eJ43zsDSS7GZ"
      },
      "source": [
        "# To find best parameters\r\n",
        "from sklearn.model_selection import GridSearchCV"
      ],
      "execution_count": 27,
      "outputs": []
    },
    {
      "cell_type": "markdown",
      "metadata": {
        "id": "2K5Lfy6BRp_3"
      },
      "source": [
        "# LOGISTIC REGRESSION"
      ]
    },
    {
      "cell_type": "code",
      "metadata": {
        "id": "v4TFitH5Rlee"
      },
      "source": [
        "from sklearn.linear_model import LogisticRegression\r\n",
        "\r\n",
        "log = LogisticRegression(random_state=42)\r\n",
        "\r\n",
        "penalty = ['l1', 'l2', 'elasticnet', 'none']\r\n",
        "class_weight = [None, 'balanced']\r\n",
        "solver = ['newton-cg', 'lbfgs', 'liblinear', 'sag', 'saga']\r\n",
        "max_iter = np.arange(100, 500, 100)\r\n",
        "multi_class = ['auto', 'ovr', 'multinomial']\r\n",
        "\r\n",
        "log_params = dict(penalty = penalty,\r\n",
        "                  class_weight = class_weight,\r\n",
        "                  solver = solver,\r\n",
        "                  max_iter = max_iter,\r\n",
        "                  multi_class = multi_class)"
      ],
      "execution_count": 28,
      "outputs": []
    },
    {
      "cell_type": "markdown",
      "metadata": {
        "id": "NPEljJynRvx9"
      },
      "source": [
        "### *Finding the best params*"
      ]
    },
    {
      "cell_type": "code",
      "metadata": {
        "id": "n5WymuxZRx5K",
        "colab": {
          "base_uri": "https://localhost:8080/"
        },
        "outputId": "c9a0ba15-627d-4b2b-edbc-554cf05a0614"
      },
      "source": [
        "mod_gs_log = GridSearchCV(estimator=log, param_grid=log_params, verbose=1, n_jobs=-1, cv=10)\r\n",
        "mod_gs_log.fit(X_train, y_train)\r\n",
        "bp_log = mod_gs_log.best_params_\r\n",
        "bp_log"
      ],
      "execution_count": 29,
      "outputs": [
        {
          "output_type": "stream",
          "text": [
            "Fitting 10 folds for each of 480 candidates, totalling 4800 fits\n"
          ],
          "name": "stdout"
        },
        {
          "output_type": "stream",
          "text": [
            "[Parallel(n_jobs=-1)]: Using backend LokyBackend with 2 concurrent workers.\n",
            "[Parallel(n_jobs=-1)]: Done 264 tasks      | elapsed:    3.5s\n",
            "[Parallel(n_jobs=-1)]: Done 2664 tasks      | elapsed:   35.0s\n",
            "[Parallel(n_jobs=-1)]: Done 4800 out of 4800 | elapsed:  1.1min finished\n",
            "/usr/local/lib/python3.7/dist-packages/sklearn/linear_model/_sag.py:330: ConvergenceWarning: The max_iter was reached which means the coef_ did not converge\n",
            "  \"the coef_ did not converge\", ConvergenceWarning)\n"
          ],
          "name": "stderr"
        },
        {
          "output_type": "execute_result",
          "data": {
            "text/plain": [
              "{'class_weight': None,\n",
              " 'max_iter': 100,\n",
              " 'multi_class': 'multinomial',\n",
              " 'penalty': 'none',\n",
              " 'solver': 'sag'}"
            ]
          },
          "metadata": {
            "tags": []
          },
          "execution_count": 29
        }
      ]
    },
    {
      "cell_type": "markdown",
      "metadata": {
        "id": "2UfsVshhR13X"
      },
      "source": [
        "### *Training with best parameters*"
      ]
    },
    {
      "cell_type": "code",
      "metadata": {
        "id": "VSKZnPB_RzpK",
        "colab": {
          "base_uri": "https://localhost:8080/"
        },
        "outputId": "b69de47b-d298-46cd-9b06-2bceb284961d"
      },
      "source": [
        "mod_log = LogisticRegression(class_weight=bp_log['class_weight'], max_iter=bp_log['max_iter'], multi_class=bp_log['multi_class'], \r\n",
        "                             penalty=bp_log['penalty'], solver=bp_log['solver'], random_state=42)\r\n",
        "\r\n",
        "# Fitting the model\r\n",
        "mod_log.fit(X_train, y_train)"
      ],
      "execution_count": 30,
      "outputs": [
        {
          "output_type": "stream",
          "text": [
            "/usr/local/lib/python3.7/dist-packages/sklearn/linear_model/_sag.py:330: ConvergenceWarning: The max_iter was reached which means the coef_ did not converge\n",
            "  \"the coef_ did not converge\", ConvergenceWarning)\n"
          ],
          "name": "stderr"
        },
        {
          "output_type": "execute_result",
          "data": {
            "text/plain": [
              "LogisticRegression(C=1.0, class_weight=None, dual=False, fit_intercept=True,\n",
              "                   intercept_scaling=1, l1_ratio=None, max_iter=100,\n",
              "                   multi_class='multinomial', n_jobs=None, penalty='none',\n",
              "                   random_state=42, solver='sag', tol=0.0001, verbose=0,\n",
              "                   warm_start=False)"
            ]
          },
          "metadata": {
            "tags": []
          },
          "execution_count": 30
        }
      ]
    },
    {
      "cell_type": "code",
      "metadata": {
        "id": "HMXQHRR1RzmE",
        "colab": {
          "base_uri": "https://localhost:8080/"
        },
        "outputId": "4bfffc4e-62ad-4a06-941d-0047993599db"
      },
      "source": [
        "# Storing the prediction\r\n",
        "ypred_log = mod_log.predict(X_test)\r\n",
        "\r\n",
        "# Accuracy for this model\r\n",
        "acc_log = accuracy_score(y_test, ypred_log)\r\n",
        "print('Acc Log:', acc_log)"
      ],
      "execution_count": 31,
      "outputs": [
        {
          "output_type": "stream",
          "text": [
            "Acc Log: 0.7804878048780488\n"
          ],
          "name": "stdout"
        }
      ]
    },
    {
      "cell_type": "markdown",
      "metadata": {
        "id": "ciYLrFoKWAR1"
      },
      "source": [
        "# DECISION TREE"
      ]
    },
    {
      "cell_type": "code",
      "metadata": {
        "id": "HxlUcAiqRzi3"
      },
      "source": [
        "from sklearn.tree import DecisionTreeClassifier\r\n",
        "\r\n",
        "dtc = DecisionTreeClassifier(random_state=42)\r\n",
        "\r\n",
        "criterion = ['gini', 'entropy']\r\n",
        "splitter = ['best', 'random']\r\n",
        "max_depth = np.arange(1, 11, 2)\r\n",
        "min_samples_split = np.arange(2, 10, 2)\r\n",
        "min_samples_leaf = np.arange(2, 10, 2)\r\n",
        "max_features = [None, 'auto', 'sqrt', 'log2']\r\n",
        "\r\n",
        "dtc_params = dict(criterion = criterion,\r\n",
        "                  splitter = splitter,\r\n",
        "                  max_depth = max_depth,\r\n",
        "                  min_samples_split = min_samples_split,\r\n",
        "                  min_samples_leaf = min_samples_leaf,\r\n",
        "                  max_features = max_features)"
      ],
      "execution_count": 32,
      "outputs": []
    },
    {
      "cell_type": "markdown",
      "metadata": {
        "id": "q4rAvZuDWELc"
      },
      "source": [
        "### *Finding the best params*"
      ]
    },
    {
      "cell_type": "code",
      "metadata": {
        "colab": {
          "base_uri": "https://localhost:8080/"
        },
        "id": "16Riv0pHWGB-",
        "outputId": "1208cb95-ebde-49e2-a94d-482153df02ce"
      },
      "source": [
        "mod_gs_dtc = GridSearchCV(estimator = dtc, param_grid = dtc_params, cv=10, verbose = 1, n_jobs = -1)\r\n",
        "mod_gs_dtc.fit(X_train, y_train)\r\n",
        "bp_dtc = mod_gs_dtc.best_params_\r\n",
        "bp_dtc"
      ],
      "execution_count": 33,
      "outputs": [
        {
          "output_type": "stream",
          "text": [
            "[Parallel(n_jobs=-1)]: Using backend LokyBackend with 2 concurrent workers.\n"
          ],
          "name": "stderr"
        },
        {
          "output_type": "stream",
          "text": [
            "Fitting 10 folds for each of 1280 candidates, totalling 12800 fits\n"
          ],
          "name": "stdout"
        },
        {
          "output_type": "stream",
          "text": [
            "[Parallel(n_jobs=-1)]: Done 956 tasks      | elapsed:    3.1s\n",
            "[Parallel(n_jobs=-1)]: Done 5756 tasks      | elapsed:   18.1s\n",
            "[Parallel(n_jobs=-1)]: Done 12800 out of 12800 | elapsed:   40.1s finished\n"
          ],
          "name": "stderr"
        },
        {
          "output_type": "execute_result",
          "data": {
            "text/plain": [
              "{'criterion': 'gini',\n",
              " 'max_depth': 1,\n",
              " 'max_features': None,\n",
              " 'min_samples_leaf': 2,\n",
              " 'min_samples_split': 2,\n",
              " 'splitter': 'best'}"
            ]
          },
          "metadata": {
            "tags": []
          },
          "execution_count": 33
        }
      ]
    },
    {
      "cell_type": "markdown",
      "metadata": {
        "id": "oalZFRmLWKb6"
      },
      "source": [
        "### *Training with best parameters*"
      ]
    },
    {
      "cell_type": "code",
      "metadata": {
        "colab": {
          "base_uri": "https://localhost:8080/"
        },
        "id": "QmcSoAHLWLP_",
        "outputId": "13e80e9f-efbe-47d6-b791-61bb40efc762"
      },
      "source": [
        "mod_dtc = DecisionTreeClassifier(max_depth=bp_dtc['max_depth'], min_samples_leaf=bp_dtc['min_samples_leaf'], criterion=bp_dtc['criterion'],\r\n",
        "                                 max_features=bp_dtc['max_features'], min_samples_split=bp_dtc['min_samples_split'], splitter=bp_dtc['splitter'])\r\n",
        "\r\n",
        "# Fitting the model\r\n",
        "mod_dtc.fit(X_train, y_train)"
      ],
      "execution_count": 34,
      "outputs": [
        {
          "output_type": "execute_result",
          "data": {
            "text/plain": [
              "DecisionTreeClassifier(ccp_alpha=0.0, class_weight=None, criterion='gini',\n",
              "                       max_depth=1, max_features=None, max_leaf_nodes=None,\n",
              "                       min_impurity_decrease=0.0, min_impurity_split=None,\n",
              "                       min_samples_leaf=2, min_samples_split=2,\n",
              "                       min_weight_fraction_leaf=0.0, presort='deprecated',\n",
              "                       random_state=None, splitter='best')"
            ]
          },
          "metadata": {
            "tags": []
          },
          "execution_count": 34
        }
      ]
    },
    {
      "cell_type": "code",
      "metadata": {
        "colab": {
          "base_uri": "https://localhost:8080/"
        },
        "id": "SbWN06MxWbgy",
        "outputId": "1cf6c3a0-75e3-4c4d-ace7-cc1f14243c59"
      },
      "source": [
        "# Storing the prediction\r\n",
        "ypred_dtc = mod_dtc.predict(X_test)\r\n",
        "\r\n",
        "# Accuracy for this model\r\n",
        "acc_dtc = accuracy_score(y_test, ypred_dtc)\r\n",
        "print('Acc DTC:', acc_dtc)"
      ],
      "execution_count": 35,
      "outputs": [
        {
          "output_type": "stream",
          "text": [
            "Acc DTC: 0.7886178861788617\n"
          ],
          "name": "stdout"
        }
      ]
    },
    {
      "cell_type": "markdown",
      "metadata": {
        "id": "jdS5htNKgKAo"
      },
      "source": [
        "# SGD CLASSIFIER"
      ]
    },
    {
      "cell_type": "code",
      "metadata": {
        "id": "k_T48bOofEV2"
      },
      "source": [
        "from sklearn.linear_model import SGDClassifier\r\n",
        "\r\n",
        "sgd = SGDClassifier(random_state=42)\r\n",
        "\r\n",
        "loss = ['hinge', 'log', 'modified_huber', 'squared_hinge', 'perceptron']\r\n",
        "penalty = ['l1', 'l2', 'elasticnet']\r\n",
        "alpha = [0.001, 0.01, 0.1, 1, 10, 100]\r\n",
        "learning_rate = ['constant', 'optimal', 'invscaling', 'adaptive']\r\n",
        "eta0 = [1, 10, 100]\r\n",
        "max_iter = np.arange(200, 1000, 200)\r\n",
        "\r\n",
        "sgd_params = dict(loss = loss,\r\n",
        "                  penalty = penalty,\r\n",
        "                  alpha = alpha,\r\n",
        "                  learning_rate = learning_rate, \r\n",
        "                  class_weight = class_weight, \r\n",
        "                  eta0 = eta0,\r\n",
        "                  max_iter = max_iter)"
      ],
      "execution_count": 36,
      "outputs": []
    },
    {
      "cell_type": "markdown",
      "metadata": {
        "id": "L3aG_uIEgOLG"
      },
      "source": [
        "### *Finding the best params*"
      ]
    },
    {
      "cell_type": "code",
      "metadata": {
        "colab": {
          "base_uri": "https://localhost:8080/"
        },
        "id": "juO_EJnAfFJq",
        "outputId": "b43d6f7c-2ec1-4d14-959d-e23ac3bdd235"
      },
      "source": [
        "mod_gs_sgd = GridSearchCV(estimator=sgd, param_grid=sgd_params, verbose=1, n_jobs=-1, cv=10)\r\n",
        "mod_gs_sgd.fit(X_train, y_train)\r\n",
        "bp_sgd = mod_gs_sgd.best_params_\r\n",
        "bp_sgd"
      ],
      "execution_count": 37,
      "outputs": [
        {
          "output_type": "stream",
          "text": [
            "[Parallel(n_jobs=-1)]: Using backend LokyBackend with 2 concurrent workers.\n"
          ],
          "name": "stderr"
        },
        {
          "output_type": "stream",
          "text": [
            "Fitting 10 folds for each of 8640 candidates, totalling 86400 fits\n"
          ],
          "name": "stdout"
        },
        {
          "output_type": "stream",
          "text": [
            "[Parallel(n_jobs=-1)]: Done 956 tasks      | elapsed:    4.6s\n",
            "[Parallel(n_jobs=-1)]: Done 5756 tasks      | elapsed:   38.0s\n",
            "[Parallel(n_jobs=-1)]: Done 10760 tasks      | elapsed:  1.3min\n",
            "[Parallel(n_jobs=-1)]: Done 19160 tasks      | elapsed:  2.4min\n",
            "[Parallel(n_jobs=-1)]: Done 29960 tasks      | elapsed:  3.8min\n",
            "[Parallel(n_jobs=-1)]: Done 43160 tasks      | elapsed:  5.3min\n",
            "[Parallel(n_jobs=-1)]: Done 58760 tasks      | elapsed:  6.8min\n",
            "[Parallel(n_jobs=-1)]: Done 76760 tasks      | elapsed:  8.5min\n",
            "[Parallel(n_jobs=-1)]: Done 86400 out of 86400 | elapsed:  9.4min finished\n"
          ],
          "name": "stderr"
        },
        {
          "output_type": "execute_result",
          "data": {
            "text/plain": [
              "{'alpha': 0.001,\n",
              " 'class_weight': None,\n",
              " 'eta0': 10,\n",
              " 'learning_rate': 'invscaling',\n",
              " 'loss': 'hinge',\n",
              " 'max_iter': 200,\n",
              " 'penalty': 'l1'}"
            ]
          },
          "metadata": {
            "tags": []
          },
          "execution_count": 37
        }
      ]
    },
    {
      "cell_type": "markdown",
      "metadata": {
        "id": "c5jKiS97gR0X"
      },
      "source": [
        "### *Training with best parameters*"
      ]
    },
    {
      "cell_type": "code",
      "metadata": {
        "colab": {
          "base_uri": "https://localhost:8080/"
        },
        "id": "JsQGs3x7fFEu",
        "outputId": "3de436bf-c795-4b3b-f47f-bddbcd6ad74b"
      },
      "source": [
        "mod_sgd = SGDClassifier(loss=bp_sgd['loss'], penalty=bp_sgd['penalty'], max_iter=bp_sgd['max_iter'], learning_rate=bp_sgd['learning_rate'],\r\n",
        "                        eta0=bp_sgd['eta0'], alpha=bp_sgd['alpha'])\r\n",
        "\r\n",
        "# Fitting the model\r\n",
        "mod_sgd.fit(X_train, y_train)"
      ],
      "execution_count": 38,
      "outputs": [
        {
          "output_type": "execute_result",
          "data": {
            "text/plain": [
              "SGDClassifier(alpha=0.001, average=False, class_weight=None,\n",
              "              early_stopping=False, epsilon=0.1, eta0=10, fit_intercept=True,\n",
              "              l1_ratio=0.15, learning_rate='invscaling', loss='hinge',\n",
              "              max_iter=200, n_iter_no_change=5, n_jobs=None, penalty='l1',\n",
              "              power_t=0.5, random_state=None, shuffle=True, tol=0.001,\n",
              "              validation_fraction=0.1, verbose=0, warm_start=False)"
            ]
          },
          "metadata": {
            "tags": []
          },
          "execution_count": 38
        }
      ]
    },
    {
      "cell_type": "code",
      "metadata": {
        "colab": {
          "base_uri": "https://localhost:8080/"
        },
        "id": "Zb1r2TVdfFBK",
        "outputId": "d3bcb6fd-25bf-4fc9-cf1f-d104ca58afe1"
      },
      "source": [
        "# Storing the prediction\r\n",
        "ypred_sgd = mod_sgd.predict(X_test)\r\n",
        "\r\n",
        "# Accuracy for this model\r\n",
        "acc_sgd = accuracy_score(y_test, ypred_sgd)\r\n",
        "print('Acc SGD:', acc_sgd)"
      ],
      "execution_count": 39,
      "outputs": [
        {
          "output_type": "stream",
          "text": [
            "Acc SGD: 0.7642276422764228\n"
          ],
          "name": "stdout"
        }
      ]
    },
    {
      "cell_type": "markdown",
      "metadata": {
        "id": "8Y6lKXjzq5x8"
      },
      "source": [
        "# RIDGE CLASSIFIER"
      ]
    },
    {
      "cell_type": "code",
      "metadata": {
        "id": "2QBh1mfzq6XO"
      },
      "source": [
        "from sklearn.linear_model import RidgeClassifier\r\n",
        "\r\n",
        "rid = RidgeClassifier(random_state=42)\r\n",
        "\r\n",
        "alpha = [0.0001, 0.001, 0.01, 0.1, 1, 10, 100, 1000]\r\n",
        "solver = ['auto', 'svd', 'cholesky', 'lsqr', 'sparse_cg', 'sag', 'saga']\r\n",
        "class_weight = ['balanced', None]\r\n",
        "max_iter = np.arange(200, 2000, 200)\r\n",
        "\r\n",
        "rid_params = dict(alpha = alpha,\r\n",
        "                  max_iter = max_iter,\r\n",
        "                  class_weight = class_weight,\r\n",
        "                  solver = solver)"
      ],
      "execution_count": 40,
      "outputs": []
    },
    {
      "cell_type": "markdown",
      "metadata": {
        "id": "I9-prOFcq96-"
      },
      "source": [
        "### *Finding the best params*"
      ]
    },
    {
      "cell_type": "code",
      "metadata": {
        "colab": {
          "base_uri": "https://localhost:8080/"
        },
        "id": "K54V47DXq9gB",
        "outputId": "c6c5f652-b725-4eb7-e4c1-9df0c70a501b"
      },
      "source": [
        "mod_gs_rid = GridSearchCV(estimator = rid, param_grid = rid_params, verbose = 1, n_jobs = -1, cv=10)\r\n",
        "mod_gs_rid.fit(X_train, y_train)\r\n",
        "bp_rid = mod_gs_rid.best_params_\r\n",
        "bp_rid"
      ],
      "execution_count": 41,
      "outputs": [
        {
          "output_type": "stream",
          "text": [
            "Fitting 10 folds for each of 1008 candidates, totalling 10080 fits\n"
          ],
          "name": "stdout"
        },
        {
          "output_type": "stream",
          "text": [
            "[Parallel(n_jobs=-1)]: Using backend LokyBackend with 2 concurrent workers.\n",
            "[Parallel(n_jobs=-1)]: Done 540 tasks      | elapsed:    5.5s\n",
            "[Parallel(n_jobs=-1)]: Done 2940 tasks      | elapsed:   30.9s\n",
            "[Parallel(n_jobs=-1)]: Done 6940 tasks      | elapsed:  1.1min\n",
            "[Parallel(n_jobs=-1)]: Done 10080 out of 10080 | elapsed:  1.4min finished\n"
          ],
          "name": "stderr"
        },
        {
          "output_type": "execute_result",
          "data": {
            "text/plain": [
              "{'alpha': 0.0001, 'class_weight': None, 'max_iter': 200, 'solver': 'auto'}"
            ]
          },
          "metadata": {
            "tags": []
          },
          "execution_count": 41
        }
      ]
    },
    {
      "cell_type": "markdown",
      "metadata": {
        "id": "fsPaKoNMrBsn"
      },
      "source": [
        "### *Training with best parameters*"
      ]
    },
    {
      "cell_type": "code",
      "metadata": {
        "colab": {
          "base_uri": "https://localhost:8080/"
        },
        "id": "n9jq-9sWq9cd",
        "outputId": "9fe166b9-e1d4-4bce-8f77-062a905ea34b"
      },
      "source": [
        "mod_rid = RidgeClassifier(alpha=bp_rid['alpha'], class_weight=bp_rid['class_weight'], max_iter=bp_rid['max_iter'], solver=bp_rid['solver'])\r\n",
        "\r\n",
        "# Fitting the model\r\n",
        "mod_rid.fit(X_train, y_train)"
      ],
      "execution_count": 42,
      "outputs": [
        {
          "output_type": "execute_result",
          "data": {
            "text/plain": [
              "RidgeClassifier(alpha=0.0001, class_weight=None, copy_X=True,\n",
              "                fit_intercept=True, max_iter=200, normalize=False,\n",
              "                random_state=None, solver='auto', tol=0.001)"
            ]
          },
          "metadata": {
            "tags": []
          },
          "execution_count": 42
        }
      ]
    },
    {
      "cell_type": "code",
      "metadata": {
        "colab": {
          "base_uri": "https://localhost:8080/"
        },
        "id": "SknaD4Fuq9Zk",
        "outputId": "2eaf59eb-cc3d-4d1f-b316-d37826b4c3ee"
      },
      "source": [
        "# Storing the prediction\r\n",
        "ypred_rid = mod_rid.predict(X_test)\r\n",
        "\r\n",
        "# Accuracy for this model\r\n",
        "acc_rid = accuracy_score(y_test, ypred_rid)\r\n",
        "print('Acc RID:', acc_rid)"
      ],
      "execution_count": 43,
      "outputs": [
        {
          "output_type": "stream",
          "text": [
            "Acc RID: 0.7886178861788617\n"
          ],
          "name": "stdout"
        }
      ]
    },
    {
      "cell_type": "markdown",
      "metadata": {
        "id": "Yj4GkpAgriSd"
      },
      "source": [
        "# K-NEAREST NEIGHBOR"
      ]
    },
    {
      "cell_type": "code",
      "metadata": {
        "id": "fuKgE6H4rltc"
      },
      "source": [
        "from sklearn.neighbors import KNeighborsClassifier\r\n",
        "\r\n",
        "knc = KNeighborsClassifier()\r\n",
        "\r\n",
        "n_neighbors = np.arange(1, 21, 2)\r\n",
        "weights = ['uniform', 'distance']\r\n",
        "algorithm = ['auto', 'ball_tree', 'kd_tree', 'brute']\r\n",
        "leaf_size = np.arange(0, 50, 5)\r\n",
        "metric = ['euclidean', 'manhattan', 'minkowski']\r\n",
        "\r\n",
        "knc_params = dict(n_neighbors = n_neighbors,\r\n",
        "                  weights = weights,\r\n",
        "                  algorithm = algorithm,\r\n",
        "                  leaf_size = leaf_size,\r\n",
        "                  metric = metric)"
      ],
      "execution_count": 44,
      "outputs": []
    },
    {
      "cell_type": "markdown",
      "metadata": {
        "id": "GdrsVTzhrp49"
      },
      "source": [
        "### *Finding the best params*"
      ]
    },
    {
      "cell_type": "code",
      "metadata": {
        "colab": {
          "base_uri": "https://localhost:8080/"
        },
        "id": "ukbou4obrne0",
        "outputId": "01ab820e-afb4-4f25-e283-7cab8fdd447b"
      },
      "source": [
        "mod_gs_knc = GridSearchCV(estimator = knc, param_grid = knc_params, verbose = 1, n_jobs = -1, cv=10)\r\n",
        "mod_gs_knc.fit(X_train, y_train)\r\n",
        "bp_knc = mod_gs_knc.best_params_\r\n",
        "bp_knc"
      ],
      "execution_count": 45,
      "outputs": [
        {
          "output_type": "stream",
          "text": [
            "[Parallel(n_jobs=-1)]: Using backend LokyBackend with 2 concurrent workers.\n"
          ],
          "name": "stderr"
        },
        {
          "output_type": "stream",
          "text": [
            "Fitting 10 folds for each of 2400 candidates, totalling 24000 fits\n"
          ],
          "name": "stdout"
        },
        {
          "output_type": "stream",
          "text": [
            "[Parallel(n_jobs=-1)]: Done 956 tasks      | elapsed:    3.7s\n",
            "[Parallel(n_jobs=-1)]: Done 5756 tasks      | elapsed:   28.2s\n",
            "[Parallel(n_jobs=-1)]: Done 13756 tasks      | elapsed:  1.1min\n",
            "[Parallel(n_jobs=-1)]: Done 24000 out of 24000 | elapsed:  1.8min finished\n"
          ],
          "name": "stderr"
        },
        {
          "output_type": "execute_result",
          "data": {
            "text/plain": [
              "{'algorithm': 'auto',\n",
              " 'leaf_size': 5,\n",
              " 'metric': 'manhattan',\n",
              " 'n_neighbors': 5,\n",
              " 'weights': 'uniform'}"
            ]
          },
          "metadata": {
            "tags": []
          },
          "execution_count": 45
        }
      ]
    },
    {
      "cell_type": "markdown",
      "metadata": {
        "id": "9zUrUpz3rs6M"
      },
      "source": [
        "### *Training with best params*"
      ]
    },
    {
      "cell_type": "code",
      "metadata": {
        "colab": {
          "base_uri": "https://localhost:8080/"
        },
        "id": "BGIhATjRrnZ9",
        "outputId": "25be6c53-0723-43b1-facb-4e77e8615c41"
      },
      "source": [
        "mod_knc = KNeighborsClassifier(algorithm=bp_knc['algorithm'], leaf_size=bp_knc['leaf_size'], metric=bp_knc['metric'], n_neighbors=bp_knc['n_neighbors'],\r\n",
        "                          weights=bp_knc['weights'])\r\n",
        "\r\n",
        "# Fitting the model\r\n",
        "mod_knc.fit(X_train, y_train)"
      ],
      "execution_count": 46,
      "outputs": [
        {
          "output_type": "execute_result",
          "data": {
            "text/plain": [
              "KNeighborsClassifier(algorithm='auto', leaf_size=5, metric='manhattan',\n",
              "                     metric_params=None, n_jobs=None, n_neighbors=5, p=2,\n",
              "                     weights='uniform')"
            ]
          },
          "metadata": {
            "tags": []
          },
          "execution_count": 46
        }
      ]
    },
    {
      "cell_type": "code",
      "metadata": {
        "colab": {
          "base_uri": "https://localhost:8080/"
        },
        "id": "_8uJ65ZrrnVQ",
        "outputId": "4aaa9a56-a695-4c43-99d9-6e57ccce68e1"
      },
      "source": [
        "# Storing the prediction\r\n",
        "ypred_knc = mod_knc.predict(X_test)\r\n",
        "\r\n",
        "# Accuracy for this model\r\n",
        "acc_knc = accuracy_score(y_test, ypred_knc)\r\n",
        "print('Acc KNC:', acc_knc)"
      ],
      "execution_count": 47,
      "outputs": [
        {
          "output_type": "stream",
          "text": [
            "Acc KNC: 0.7235772357723578\n"
          ],
          "name": "stdout"
        }
      ]
    },
    {
      "cell_type": "markdown",
      "metadata": {
        "id": "pHMgviUAsolK"
      },
      "source": [
        "# RANDOM FOREST"
      ]
    },
    {
      "cell_type": "code",
      "metadata": {
        "id": "p3g4ZncbrnR-"
      },
      "source": [
        "from sklearn.ensemble import RandomForestClassifier\r\n",
        "\r\n",
        "rfc = RandomForestClassifier(random_state=42)\r\n",
        "\r\n",
        "n_estimators = [2, 4, 8, 16, 32, 64, 100]\r\n",
        "max_features = ['sqrt', 'log2', 'auto']\r\n",
        "criterion = ['gini', 'entropy']\r\n",
        "max_depth = np.arange(1, 16, 2)\r\n",
        "min_samples_split = [0.01, 0.1, 1.0]\r\n",
        "min_samples_leaf = [0.01, 0.1, 1.0]\r\n",
        "class_weight = ['balanced', 'balanced_subsample']\r\n",
        "\r\n",
        "rfc_params = dict(n_estimators = n_estimators,\r\n",
        "                  max_features = max_features,\r\n",
        "                  criterion = criterion,\r\n",
        "                  max_depth = max_depth,\r\n",
        "                  min_samples_split = min_samples_split,\r\n",
        "                  min_samples_leaf = min_samples_leaf,\r\n",
        "                  class_weight = class_weight)"
      ],
      "execution_count": 48,
      "outputs": []
    },
    {
      "cell_type": "markdown",
      "metadata": {
        "id": "Sn6Suv21ssEu"
      },
      "source": [
        "### *Finding the best params*"
      ]
    },
    {
      "cell_type": "code",
      "metadata": {
        "colab": {
          "base_uri": "https://localhost:8080/"
        },
        "id": "sknhlOUAsrhl",
        "outputId": "6d9ab3f7-f4be-4d82-9b8e-1ab887ce01e8"
      },
      "source": [
        "mod_gs_rfc = GridSearchCV(estimator = rfc, param_grid = rfc_params, verbose = 1, n_jobs = -1, cv=5)\r\n",
        "mod_gs_rfc.fit(X_train, y_train)\r\n",
        "bp_rfc = mod_gs_rfc.best_params_\r\n",
        "bp_rfc"
      ],
      "execution_count": 49,
      "outputs": [
        {
          "output_type": "stream",
          "text": [
            "[Parallel(n_jobs=-1)]: Using backend LokyBackend with 2 concurrent workers.\n"
          ],
          "name": "stderr"
        },
        {
          "output_type": "stream",
          "text": [
            "Fitting 5 folds for each of 6048 candidates, totalling 30240 fits\n"
          ],
          "name": "stdout"
        },
        {
          "output_type": "stream",
          "text": [
            "[Parallel(n_jobs=-1)]: Done 300 tasks      | elapsed:   10.3s\n",
            "[Parallel(n_jobs=-1)]: Done 1500 tasks      | elapsed:   52.1s\n",
            "[Parallel(n_jobs=-1)]: Done 3500 tasks      | elapsed:  2.0min\n",
            "[Parallel(n_jobs=-1)]: Done 6300 tasks      | elapsed:  3.6min\n",
            "[Parallel(n_jobs=-1)]: Done 9900 tasks      | elapsed:  5.7min\n",
            "[Parallel(n_jobs=-1)]: Done 14300 tasks      | elapsed:  8.2min\n",
            "[Parallel(n_jobs=-1)]: Done 19500 tasks      | elapsed: 11.6min\n",
            "[Parallel(n_jobs=-1)]: Done 25500 tasks      | elapsed: 15.6min\n",
            "[Parallel(n_jobs=-1)]: Done 30240 out of 30240 | elapsed: 18.8min finished\n"
          ],
          "name": "stderr"
        },
        {
          "output_type": "execute_result",
          "data": {
            "text/plain": [
              "{'class_weight': 'balanced',\n",
              " 'criterion': 'gini',\n",
              " 'max_depth': 3,\n",
              " 'max_features': 'sqrt',\n",
              " 'min_samples_leaf': 0.01,\n",
              " 'min_samples_split': 0.01,\n",
              " 'n_estimators': 32}"
            ]
          },
          "metadata": {
            "tags": []
          },
          "execution_count": 49
        }
      ]
    },
    {
      "cell_type": "markdown",
      "metadata": {
        "id": "9aynS1uBsxPg"
      },
      "source": [
        "### *Training with best params*"
      ]
    },
    {
      "cell_type": "code",
      "metadata": {
        "colab": {
          "base_uri": "https://localhost:8080/"
        },
        "id": "YOeZf5V_sreb",
        "outputId": "1426f376-f03e-4131-ff36-b206c1cbff36"
      },
      "source": [
        "mod_rfc = RandomForestClassifier(n_estimators=bp_rfc['n_estimators'], max_features=bp_rfc['max_features'], criterion=bp_rfc['criterion'],\r\n",
        "                  max_depth=bp_rfc['max_depth'], min_samples_split=bp_rfc['min_samples_split'], min_samples_leaf=bp_rfc['min_samples_leaf'],\r\n",
        "                  class_weight=bp_rfc['class_weight'])\r\n",
        "\r\n",
        "# Fitting the model\r\n",
        "mod_rfc.fit(X_train, y_train)"
      ],
      "execution_count": 50,
      "outputs": [
        {
          "output_type": "execute_result",
          "data": {
            "text/plain": [
              "RandomForestClassifier(bootstrap=True, ccp_alpha=0.0, class_weight='balanced',\n",
              "                       criterion='gini', max_depth=3, max_features='sqrt',\n",
              "                       max_leaf_nodes=None, max_samples=None,\n",
              "                       min_impurity_decrease=0.0, min_impurity_split=None,\n",
              "                       min_samples_leaf=0.01, min_samples_split=0.01,\n",
              "                       min_weight_fraction_leaf=0.0, n_estimators=32,\n",
              "                       n_jobs=None, oob_score=False, random_state=None,\n",
              "                       verbose=0, warm_start=False)"
            ]
          },
          "metadata": {
            "tags": []
          },
          "execution_count": 50
        }
      ]
    },
    {
      "cell_type": "code",
      "metadata": {
        "colab": {
          "base_uri": "https://localhost:8080/"
        },
        "id": "iAu1dE5dsra_",
        "outputId": "8ad636fe-81cf-4d78-acc4-4fc107824e79"
      },
      "source": [
        "# Storing the prediction\r\n",
        "ypred_rfc = mod_rfc.predict(X_test)\r\n",
        "\r\n",
        "# Accuracy for this model\r\n",
        "acc_rfc = accuracy_score(y_test, ypred_rfc)\r\n",
        "print('Acc RFC:', acc_rfc)"
      ],
      "execution_count": 51,
      "outputs": [
        {
          "output_type": "stream",
          "text": [
            "Acc RFC: 0.7967479674796748\n"
          ],
          "name": "stdout"
        }
      ]
    },
    {
      "cell_type": "markdown",
      "metadata": {
        "id": "CnMBG_gNyVj1"
      },
      "source": [
        "# ADA-BOOST CLASSIFIER"
      ]
    },
    {
      "cell_type": "code",
      "metadata": {
        "id": "w4a275ycyVIT"
      },
      "source": [
        "from sklearn.ensemble import AdaBoostClassifier\r\n",
        "\r\n",
        "abc = AdaBoostClassifier(random_state=42)\r\n",
        "\r\n",
        "algorithm = ['SAMME', 'SAMME.R']\r\n",
        "n_estimators = [10, 50, 100, 200]\r\n",
        "learning_rate = [10, 1, 0.1, 0.01, 0.001]\r\n",
        "\r\n",
        "abc_params = dict(algorithm = algorithm,\r\n",
        "                 n_estimators = n_estimators,\r\n",
        "                 learning_rate = learning_rate)"
      ],
      "execution_count": 52,
      "outputs": []
    },
    {
      "cell_type": "markdown",
      "metadata": {
        "id": "THsfwkBcyZLd"
      },
      "source": [
        "### *Finding the best params*"
      ]
    },
    {
      "cell_type": "code",
      "metadata": {
        "colab": {
          "base_uri": "https://localhost:8080/"
        },
        "id": "eFGjTMyMyVFl",
        "outputId": "77a0289f-4d72-470b-ce04-8f039a6845b6"
      },
      "source": [
        "mod_gs_abc = GridSearchCV(estimator = abc, param_grid = abc_params, verbose = 1, n_jobs = -1, cv=10)\r\n",
        "mod_gs_abc.fit(X_train, y_train)\r\n",
        "bp_abc = mod_gs_abc.best_params_\r\n",
        "bp_abc"
      ],
      "execution_count": 53,
      "outputs": [
        {
          "output_type": "stream",
          "text": [
            "Fitting 10 folds for each of 40 candidates, totalling 400 fits\n"
          ],
          "name": "stdout"
        },
        {
          "output_type": "stream",
          "text": [
            "[Parallel(n_jobs=-1)]: Using backend LokyBackend with 2 concurrent workers.\n",
            "[Parallel(n_jobs=-1)]: Done 135 tasks      | elapsed:   11.3s\n",
            "[Parallel(n_jobs=-1)]: Done 400 out of 400 | elapsed:   43.5s finished\n"
          ],
          "name": "stderr"
        },
        {
          "output_type": "execute_result",
          "data": {
            "text/plain": [
              "{'algorithm': 'SAMME.R', 'learning_rate': 0.1, 'n_estimators': 200}"
            ]
          },
          "metadata": {
            "tags": []
          },
          "execution_count": 53
        }
      ]
    },
    {
      "cell_type": "markdown",
      "metadata": {
        "id": "Nmazm_mdycut"
      },
      "source": [
        "### *Training with best params*"
      ]
    },
    {
      "cell_type": "code",
      "metadata": {
        "colab": {
          "base_uri": "https://localhost:8080/"
        },
        "id": "f0U8TgD5yVBx",
        "outputId": "860ccbbd-997b-497d-fa5f-98f961410f1b"
      },
      "source": [
        "mod_abc = AdaBoostClassifier(algorithm=bp_abc['algorithm'], n_estimators=bp_abc['n_estimators'], learning_rate=bp_abc['learning_rate'])\r\n",
        "\r\n",
        "# Fitting the model\r\n",
        "mod_abc.fit(X_train, y_train)"
      ],
      "execution_count": 54,
      "outputs": [
        {
          "output_type": "execute_result",
          "data": {
            "text/plain": [
              "AdaBoostClassifier(algorithm='SAMME.R', base_estimator=None, learning_rate=0.1,\n",
              "                   n_estimators=200, random_state=None)"
            ]
          },
          "metadata": {
            "tags": []
          },
          "execution_count": 54
        }
      ]
    },
    {
      "cell_type": "code",
      "metadata": {
        "colab": {
          "base_uri": "https://localhost:8080/"
        },
        "id": "eyuvV1EZyU-Y",
        "outputId": "f39ee902-35ee-4f87-da92-79600024ee72"
      },
      "source": [
        "# Storing the prediction\r\n",
        "ypred_abc = mod_abc.predict(X_test)\r\n",
        "\r\n",
        "# Accuracy for this model\r\n",
        "acc_abc = accuracy_score(y_test, ypred_abc)\r\n",
        "print('Acc ABC:', acc_abc)"
      ],
      "execution_count": 55,
      "outputs": [
        {
          "output_type": "stream",
          "text": [
            "Acc ABC: 0.7967479674796748\n"
          ],
          "name": "stdout"
        }
      ]
    },
    {
      "cell_type": "markdown",
      "metadata": {
        "id": "73ZljMAOzEd_"
      },
      "source": [
        "# SUPPORT VECTOR CLASSIFIER"
      ]
    },
    {
      "cell_type": "code",
      "metadata": {
        "id": "rtK-Sn6SzEVN"
      },
      "source": [
        "from sklearn.svm import SVC\r\n",
        "\r\n",
        "svc = SVC(random_state=42)\r\n",
        "\r\n",
        "C = [100, 10, 1.0, 0.1, 0.01]\r\n",
        "kernel = ['linear', 'poly', 'rbf', 'sigmoid']\r\n",
        "gamma = ['scale', 'auto']\r\n",
        "\r\n",
        "svc_params = dict(C = C,\r\n",
        "                  kernel = kernel,\r\n",
        "                  gamma = gamma)"
      ],
      "execution_count": 56,
      "outputs": []
    },
    {
      "cell_type": "markdown",
      "metadata": {
        "id": "dg2WyzGKzJcK"
      },
      "source": [
        "### *Finding the best params*"
      ]
    },
    {
      "cell_type": "code",
      "metadata": {
        "colab": {
          "base_uri": "https://localhost:8080/"
        },
        "id": "qef-fksPzEQ8",
        "outputId": "1454895a-8e59-40e0-eef7-5241d4a33930"
      },
      "source": [
        "mod_gs_svc = GridSearchCV(estimator = svc, param_grid = svc_params, verbose = 1, n_jobs = -1, cv=10)\r\n",
        "mod_gs_svc.fit(X_train, y_train)\r\n",
        "bp_svc = mod_gs_svc.best_params_\r\n",
        "bp_svc"
      ],
      "execution_count": 57,
      "outputs": [
        {
          "output_type": "stream",
          "text": [
            "Fitting 10 folds for each of 40 candidates, totalling 400 fits\n"
          ],
          "name": "stdout"
        },
        {
          "output_type": "stream",
          "text": [
            "[Parallel(n_jobs=-1)]: Using backend LokyBackend with 2 concurrent workers.\n",
            "[Parallel(n_jobs=-1)]: Done 136 tasks      | elapsed:    3.2s\n",
            "[Parallel(n_jobs=-1)]: Done 400 out of 400 | elapsed:    5.5s finished\n"
          ],
          "name": "stderr"
        },
        {
          "output_type": "execute_result",
          "data": {
            "text/plain": [
              "{'C': 100, 'gamma': 'scale', 'kernel': 'linear'}"
            ]
          },
          "metadata": {
            "tags": []
          },
          "execution_count": 57
        }
      ]
    },
    {
      "cell_type": "markdown",
      "metadata": {
        "id": "I-Y6m8X1zOZD"
      },
      "source": [
        "### *Training with best params*"
      ]
    },
    {
      "cell_type": "code",
      "metadata": {
        "colab": {
          "base_uri": "https://localhost:8080/"
        },
        "id": "4rAcxfG_zENU",
        "outputId": "b494c5c2-a5d7-431c-a020-1b315554c470"
      },
      "source": [
        "mod_svc = SVC(C=bp_svc['C'], kernel=bp_svc['kernel'], gamma=bp_svc['gamma'])\r\n",
        "\r\n",
        "# Fitting the model\r\n",
        "mod_svc.fit(X_train, y_train)"
      ],
      "execution_count": 58,
      "outputs": [
        {
          "output_type": "execute_result",
          "data": {
            "text/plain": [
              "SVC(C=100, break_ties=False, cache_size=200, class_weight=None, coef0=0.0,\n",
              "    decision_function_shape='ovr', degree=3, gamma='scale', kernel='linear',\n",
              "    max_iter=-1, probability=False, random_state=None, shrinking=True,\n",
              "    tol=0.001, verbose=False)"
            ]
          },
          "metadata": {
            "tags": []
          },
          "execution_count": 58
        }
      ]
    },
    {
      "cell_type": "code",
      "metadata": {
        "colab": {
          "base_uri": "https://localhost:8080/"
        },
        "id": "RzLn_6SSzEKF",
        "outputId": "2ad206b2-4484-48ee-fd2a-66bd3a977f8c"
      },
      "source": [
        "# Storing the prediction\r\n",
        "ypred_svc = mod_svc.predict(X_test)\r\n",
        "\r\n",
        "# Accuracy for this model\r\n",
        "acc_svc = accuracy_score(y_test, ypred_svc)\r\n",
        "print('Acc SVC:', acc_svc)"
      ],
      "execution_count": 59,
      "outputs": [
        {
          "output_type": "stream",
          "text": [
            "Acc SVC: 0.7642276422764228\n"
          ],
          "name": "stdout"
        }
      ]
    },
    {
      "cell_type": "markdown",
      "metadata": {
        "id": "KzDQr7sz0N6v"
      },
      "source": [
        "# CATEGORICAL NAIVE BAYES"
      ]
    },
    {
      "cell_type": "code",
      "metadata": {
        "colab": {
          "base_uri": "https://localhost:8080/"
        },
        "id": "oxnil2PizEHD",
        "outputId": "2188221d-2cb8-49c2-aebb-49667471dc25"
      },
      "source": [
        "from sklearn.naive_bayes import GaussianNB\r\n",
        "\r\n",
        "mod_gnb = GaussianNB()\r\n",
        "\r\n",
        "# Fitting the model\r\n",
        "mod_gnb.fit(X_train, y_train)"
      ],
      "execution_count": 60,
      "outputs": [
        {
          "output_type": "execute_result",
          "data": {
            "text/plain": [
              "GaussianNB(priors=None, var_smoothing=1e-09)"
            ]
          },
          "metadata": {
            "tags": []
          },
          "execution_count": 60
        }
      ]
    },
    {
      "cell_type": "code",
      "metadata": {
        "colab": {
          "base_uri": "https://localhost:8080/"
        },
        "id": "EaVbLUCczEDP",
        "outputId": "de73eb73-151d-4beb-b3dc-282ff1ea8b50"
      },
      "source": [
        "# Storing the prediction\r\n",
        "ypred_gnb = mod_gnb.predict(X_test)\r\n",
        "\r\n",
        "# Accuracy for this model\r\n",
        "acc_gnb = accuracy_score(y_test, ypred_gnb)\r\n",
        "print('Acc GNB:', acc_gnb)"
      ],
      "execution_count": 61,
      "outputs": [
        {
          "output_type": "stream",
          "text": [
            "Acc GNB: 0.35772357723577236\n"
          ],
          "name": "stdout"
        }
      ]
    },
    {
      "cell_type": "markdown",
      "metadata": {
        "id": "uLcxUn6z17jv"
      },
      "source": [
        "# BAGGING CLASSIFIER"
      ]
    },
    {
      "cell_type": "code",
      "metadata": {
        "id": "YDhKunJx02m1"
      },
      "source": [
        "from sklearn.ensemble import BaggingClassifier\r\n",
        "\r\n",
        "bc = BaggingClassifier(random_state=42)\r\n",
        "\r\n",
        "n_estimators = [1, 10, 20, 50, 100]\r\n",
        "\r\n",
        "bc_params = dict(n_estimators = n_estimators)"
      ],
      "execution_count": 62,
      "outputs": []
    },
    {
      "cell_type": "markdown",
      "metadata": {
        "id": "d9Mz7uAs1_4I"
      },
      "source": [
        "### *Finding the best params*"
      ]
    },
    {
      "cell_type": "code",
      "metadata": {
        "colab": {
          "base_uri": "https://localhost:8080/"
        },
        "id": "ZzvKlmDG1-OW",
        "outputId": "55d33ce4-0133-4285-860d-9a3209e4f8d9"
      },
      "source": [
        "mod_gs_bc = GridSearchCV(estimator = bc, param_grid = bc_params, cv = 10, verbose = 1, n_jobs = -1)\r\n",
        "mod_gs_bc.fit(X_train, y_train)\r\n",
        "bp_bc = mod_gs_bc.best_params_\r\n",
        "bp_bc"
      ],
      "execution_count": 63,
      "outputs": [
        {
          "output_type": "stream",
          "text": [
            "Fitting 10 folds for each of 5 candidates, totalling 50 fits\n"
          ],
          "name": "stdout"
        },
        {
          "output_type": "stream",
          "text": [
            "[Parallel(n_jobs=-1)]: Using backend LokyBackend with 2 concurrent workers.\n",
            "[Parallel(n_jobs=-1)]: Done  50 out of  50 | elapsed:    3.8s finished\n"
          ],
          "name": "stderr"
        },
        {
          "output_type": "execute_result",
          "data": {
            "text/plain": [
              "{'n_estimators': 100}"
            ]
          },
          "metadata": {
            "tags": []
          },
          "execution_count": 63
        }
      ]
    },
    {
      "cell_type": "markdown",
      "metadata": {
        "id": "9z6NG8LI2FJs"
      },
      "source": [
        "### *Training with best parameters*"
      ]
    },
    {
      "cell_type": "code",
      "metadata": {
        "colab": {
          "base_uri": "https://localhost:8080/"
        },
        "id": "MKcGXTBv1-H5",
        "outputId": "eb90c231-92a5-46c9-81b7-eb6991922874"
      },
      "source": [
        "mod_bc = BaggingClassifier(base_estimator=dtc, n_estimators=bp_bc['n_estimators'], random_state=42)\r\n",
        "\r\n",
        "# Fitting the model\r\n",
        "mod_bc.fit(X_train, y_train)"
      ],
      "execution_count": 64,
      "outputs": [
        {
          "output_type": "execute_result",
          "data": {
            "text/plain": [
              "BaggingClassifier(base_estimator=DecisionTreeClassifier(ccp_alpha=0.0,\n",
              "                                                        class_weight=None,\n",
              "                                                        criterion='gini',\n",
              "                                                        max_depth=None,\n",
              "                                                        max_features=None,\n",
              "                                                        max_leaf_nodes=None,\n",
              "                                                        min_impurity_decrease=0.0,\n",
              "                                                        min_impurity_split=None,\n",
              "                                                        min_samples_leaf=1,\n",
              "                                                        min_samples_split=2,\n",
              "                                                        min_weight_fraction_leaf=0.0,\n",
              "                                                        presort='deprecated',\n",
              "                                                        random_state=42,\n",
              "                                                        splitter='best'),\n",
              "                  bootstrap=True, bootstrap_features=False, max_features=1.0,\n",
              "                  max_samples=1.0, n_estimators=100, n_jobs=None,\n",
              "                  oob_score=False, random_state=42, verbose=0,\n",
              "                  warm_start=False)"
            ]
          },
          "metadata": {
            "tags": []
          },
          "execution_count": 64
        }
      ]
    },
    {
      "cell_type": "code",
      "metadata": {
        "colab": {
          "base_uri": "https://localhost:8080/"
        },
        "id": "OgBhyycS1-C1",
        "outputId": "3e362515-7698-40a7-9ec3-d11f53317095"
      },
      "source": [
        "# Storing the prediction\r\n",
        "ypred_bc = mod_bc.predict(X_test)\r\n",
        "\r\n",
        "# Accuracy for this model\r\n",
        "acc_bc = accuracy_score(y_test, ypred_bc)\r\n",
        "print('Acc BC:', acc_bc)"
      ],
      "execution_count": 65,
      "outputs": [
        {
          "output_type": "stream",
          "text": [
            "Acc BC: 0.7642276422764228\n"
          ],
          "name": "stdout"
        }
      ]
    },
    {
      "cell_type": "markdown",
      "metadata": {
        "id": "O0E-QItK36pl"
      },
      "source": [
        "### *Comparing all the accuracy scores:*"
      ]
    },
    {
      "cell_type": "code",
      "metadata": {
        "colab": {
          "base_uri": "https://localhost:8080/"
        },
        "id": "1fVIYRlX19-p",
        "outputId": "7ac47730-f44e-425b-fda1-532954baa655"
      },
      "source": [
        "print('ABC: ', acc_abc)\r\n",
        "print(' BC: ', acc_bc)\r\n",
        "print('DTC: ', acc_dtc)\r\n",
        "print('GNB: ', acc_gnb)\r\n",
        "print('KNC: ', acc_knc)\r\n",
        "print('LOG: ', acc_log)\r\n",
        "print('RFC: ', acc_rfc)\r\n",
        "print('RID: ', acc_rid)\r\n",
        "print('SGD: ', acc_sgd)\r\n",
        "print('SVC: ', acc_svc)"
      ],
      "execution_count": 74,
      "outputs": [
        {
          "output_type": "stream",
          "text": [
            "ABC:  0.7967479674796748\n",
            " BC:  0.7642276422764228\n",
            "DTC:  0.7886178861788617\n",
            "GNB:  0.35772357723577236\n",
            "KNC:  0.7235772357723578\n",
            "LOG:  0.7804878048780488\n",
            "RFC:  0.7967479674796748\n",
            "RID:  0.7886178861788617\n",
            "SGD:  0.7642276422764228\n",
            "SVC:  0.7642276422764228\n"
          ],
          "name": "stdout"
        }
      ]
    },
    {
      "cell_type": "markdown",
      "metadata": {
        "id": "52VLtmKuJzN5"
      },
      "source": [
        "### *Here we have 2 algorithms gving maximum accuracies. Hence we can use anyone but we will go with Random Forest*"
      ]
    },
    {
      "cell_type": "code",
      "metadata": {
        "id": "OcH_5Zir1969"
      },
      "source": [
        "# Saving the RFC model\r\n",
        "import pickle\r\n",
        "\r\n",
        "rfc_model = 'rfc_model.sav'\r\n",
        "pickle.dump(mod_rfc, open(rfc_model, 'wb'))"
      ],
      "execution_count": 75,
      "outputs": []
    },
    {
      "cell_type": "markdown",
      "metadata": {
        "id": "J9o8vVB5KmHW"
      },
      "source": [
        "# **TEST DATA**\r\n",
        "---"
      ]
    },
    {
      "cell_type": "code",
      "metadata": {
        "id": "mdoR7y3160tj"
      },
      "source": [
        "df_test = pd.read_csv('/content/drive/MyDrive/DataScience/Dataset/_CHALLENGES_/AnalyticsVidhya/PRACTICE/LoanPrediction/AV_test_lAUu6dG.csv')"
      ],
      "execution_count": 106,
      "outputs": []
    },
    {
      "cell_type": "code",
      "metadata": {
        "colab": {
          "base_uri": "https://localhost:8080/",
          "height": 241
        },
        "id": "Y7zudr4F60c0",
        "outputId": "ef38b6b7-8e84-4d4d-b0e0-fc7cb2f603e6"
      },
      "source": [
        "df_test.head()"
      ],
      "execution_count": 107,
      "outputs": [
        {
          "output_type": "execute_result",
          "data": {
            "text/html": [
              "<div>\n",
              "<style scoped>\n",
              "    .dataframe tbody tr th:only-of-type {\n",
              "        vertical-align: middle;\n",
              "    }\n",
              "\n",
              "    .dataframe tbody tr th {\n",
              "        vertical-align: top;\n",
              "    }\n",
              "\n",
              "    .dataframe thead th {\n",
              "        text-align: right;\n",
              "    }\n",
              "</style>\n",
              "<table border=\"1\" class=\"dataframe\">\n",
              "  <thead>\n",
              "    <tr style=\"text-align: right;\">\n",
              "      <th></th>\n",
              "      <th>Loan_ID</th>\n",
              "      <th>Gender</th>\n",
              "      <th>Married</th>\n",
              "      <th>Dependents</th>\n",
              "      <th>Education</th>\n",
              "      <th>Self_Employed</th>\n",
              "      <th>ApplicantIncome</th>\n",
              "      <th>CoapplicantIncome</th>\n",
              "      <th>LoanAmount</th>\n",
              "      <th>Loan_Amount_Term</th>\n",
              "      <th>Credit_History</th>\n",
              "      <th>Property_Area</th>\n",
              "    </tr>\n",
              "  </thead>\n",
              "  <tbody>\n",
              "    <tr>\n",
              "      <th>0</th>\n",
              "      <td>LP001015</td>\n",
              "      <td>Male</td>\n",
              "      <td>Yes</td>\n",
              "      <td>0</td>\n",
              "      <td>Graduate</td>\n",
              "      <td>No</td>\n",
              "      <td>5720</td>\n",
              "      <td>0</td>\n",
              "      <td>110.0</td>\n",
              "      <td>360.0</td>\n",
              "      <td>1.0</td>\n",
              "      <td>Urban</td>\n",
              "    </tr>\n",
              "    <tr>\n",
              "      <th>1</th>\n",
              "      <td>LP001022</td>\n",
              "      <td>Male</td>\n",
              "      <td>Yes</td>\n",
              "      <td>1</td>\n",
              "      <td>Graduate</td>\n",
              "      <td>No</td>\n",
              "      <td>3076</td>\n",
              "      <td>1500</td>\n",
              "      <td>126.0</td>\n",
              "      <td>360.0</td>\n",
              "      <td>1.0</td>\n",
              "      <td>Urban</td>\n",
              "    </tr>\n",
              "    <tr>\n",
              "      <th>2</th>\n",
              "      <td>LP001031</td>\n",
              "      <td>Male</td>\n",
              "      <td>Yes</td>\n",
              "      <td>2</td>\n",
              "      <td>Graduate</td>\n",
              "      <td>No</td>\n",
              "      <td>5000</td>\n",
              "      <td>1800</td>\n",
              "      <td>208.0</td>\n",
              "      <td>360.0</td>\n",
              "      <td>1.0</td>\n",
              "      <td>Urban</td>\n",
              "    </tr>\n",
              "    <tr>\n",
              "      <th>3</th>\n",
              "      <td>LP001035</td>\n",
              "      <td>Male</td>\n",
              "      <td>Yes</td>\n",
              "      <td>2</td>\n",
              "      <td>Graduate</td>\n",
              "      <td>No</td>\n",
              "      <td>2340</td>\n",
              "      <td>2546</td>\n",
              "      <td>100.0</td>\n",
              "      <td>360.0</td>\n",
              "      <td>NaN</td>\n",
              "      <td>Urban</td>\n",
              "    </tr>\n",
              "    <tr>\n",
              "      <th>4</th>\n",
              "      <td>LP001051</td>\n",
              "      <td>Male</td>\n",
              "      <td>No</td>\n",
              "      <td>0</td>\n",
              "      <td>Not Graduate</td>\n",
              "      <td>No</td>\n",
              "      <td>3276</td>\n",
              "      <td>0</td>\n",
              "      <td>78.0</td>\n",
              "      <td>360.0</td>\n",
              "      <td>1.0</td>\n",
              "      <td>Urban</td>\n",
              "    </tr>\n",
              "  </tbody>\n",
              "</table>\n",
              "</div>"
            ],
            "text/plain": [
              "    Loan_ID Gender Married  ... Loan_Amount_Term Credit_History Property_Area\n",
              "0  LP001015   Male     Yes  ...            360.0            1.0         Urban\n",
              "1  LP001022   Male     Yes  ...            360.0            1.0         Urban\n",
              "2  LP001031   Male     Yes  ...            360.0            1.0         Urban\n",
              "3  LP001035   Male     Yes  ...            360.0            NaN         Urban\n",
              "4  LP001051   Male      No  ...            360.0            1.0         Urban\n",
              "\n",
              "[5 rows x 12 columns]"
            ]
          },
          "metadata": {
            "tags": []
          },
          "execution_count": 107
        }
      ]
    },
    {
      "cell_type": "code",
      "metadata": {
        "id": "PDJmRJUKleUu"
      },
      "source": [
        "df = pd.DataFrame(data=df_test.Loan_ID)"
      ],
      "execution_count": 108,
      "outputs": []
    },
    {
      "cell_type": "code",
      "metadata": {
        "id": "PCAQcndM60W8"
      },
      "source": [
        "# Dropping the irrelevant ID column\r\n",
        "df_test.drop(['Loan_ID'], axis=1, inplace=True)"
      ],
      "execution_count": 111,
      "outputs": []
    },
    {
      "cell_type": "markdown",
      "metadata": {
        "id": "7pBRHiZXc2Kp"
      },
      "source": [
        "### *For categorical columns, we will be replacing the missing values with the mode of the respective columns and for Numerical columns we will replace the missing values with the mean of that column*"
      ]
    },
    {
      "cell_type": "code",
      "metadata": {
        "id": "XEGB4NIMaWRb"
      },
      "source": [
        "df_test.Gender = df_test.Gender.fillna(df_test.Gender.mode()[0])\r\n",
        "df_test.Married = df_test.Married.fillna(df_test.Married.mode()[0])\r\n",
        "df_test.Dependents = df_test.Dependents.fillna(df_test.Dependents.mode()[0])\r\n",
        "df_test.Self_Employed = df_test.Self_Employed.fillna(df_test.Self_Employed.mode()[0])\r\n",
        "df_test.Loan_Amount_Term = df_test.Loan_Amount_Term.fillna(df_test.Loan_Amount_Term.mode()[0])\r\n",
        "df_test.Credit_History = df_test.Credit_History.fillna(df_test.Credit_History.mode()[0])\r\n",
        "\r\n",
        "df_test.LoanAmount = df_test.LoanAmount.fillna(df_test.LoanAmount.mean())"
      ],
      "execution_count": 112,
      "outputs": []
    },
    {
      "cell_type": "code",
      "metadata": {
        "id": "Q_-eFs1LdgfF"
      },
      "source": [
        "# One hot encoding on categorical columns.\r\n",
        "df_test = pd.get_dummies(df_test, columns=['Gender','Married', 'Education', 'Self_Employed', 'Property_Area', 'Dependents', 'Loan_Amount_Term'], drop_first=True)"
      ],
      "execution_count": 113,
      "outputs": []
    },
    {
      "cell_type": "code",
      "metadata": {
        "id": "yzoNFbvWfggM"
      },
      "source": [
        "# Loading the saved RFC model\r\n",
        "rfc_loaded = pickle.load(open(rfc_model, 'rb'))"
      ],
      "execution_count": 114,
      "outputs": []
    },
    {
      "cell_type": "code",
      "metadata": {
        "colab": {
          "base_uri": "https://localhost:8080/"
        },
        "id": "kzhaqq4uf8XA",
        "outputId": "05dca9fb-842a-418d-c0c1-6a7ec0007960"
      },
      "source": [
        "print(df_train.columns)\r\n",
        "print('-'*50)\r\n",
        "print(df_test.columns)"
      ],
      "execution_count": 115,
      "outputs": [
        {
          "output_type": "stream",
          "text": [
            "Index(['ApplicantIncome', 'CoapplicantIncome', 'LoanAmount', 'Credit_History',\n",
            "       'Loan_Status', 'Gender_Male', 'Married_Yes', 'Education_Not Graduate',\n",
            "       'Self_Employed_Yes', 'Property_Area_Semiurban', 'Property_Area_Urban',\n",
            "       'Dependents_1', 'Dependents_2', 'Dependents_3+',\n",
            "       'Loan_Amount_Term_36.0', 'Loan_Amount_Term_60.0',\n",
            "       'Loan_Amount_Term_84.0', 'Loan_Amount_Term_120.0',\n",
            "       'Loan_Amount_Term_180.0', 'Loan_Amount_Term_240.0',\n",
            "       'Loan_Amount_Term_300.0', 'Loan_Amount_Term_360.0',\n",
            "       'Loan_Amount_Term_480.0'],\n",
            "      dtype='object')\n",
            "--------------------------------------------------\n",
            "Index(['ApplicantIncome', 'CoapplicantIncome', 'LoanAmount', 'Credit_History',\n",
            "       'Gender_Male', 'Married_Yes', 'Education_Not Graduate',\n",
            "       'Self_Employed_Yes', 'Property_Area_Semiurban', 'Property_Area_Urban',\n",
            "       'Dependents_1', 'Dependents_2', 'Dependents_3+',\n",
            "       'Loan_Amount_Term_12.0', 'Loan_Amount_Term_36.0',\n",
            "       'Loan_Amount_Term_60.0', 'Loan_Amount_Term_84.0',\n",
            "       'Loan_Amount_Term_120.0', 'Loan_Amount_Term_180.0',\n",
            "       'Loan_Amount_Term_240.0', 'Loan_Amount_Term_300.0',\n",
            "       'Loan_Amount_Term_350.0', 'Loan_Amount_Term_360.0',\n",
            "       'Loan_Amount_Term_480.0'],\n",
            "      dtype='object')\n"
          ],
          "name": "stdout"
        }
      ]
    },
    {
      "cell_type": "code",
      "metadata": {
        "id": "pG9NM1Q0ikRj"
      },
      "source": [
        "# Test data has 2 extra columns and removing it would not make any difference to the data. Hence dropping it.\r\n",
        "df_test.drop(['Loan_Amount_Term_12.0', 'Loan_Amount_Term_350.0'], axis=1, inplace=True)"
      ],
      "execution_count": 116,
      "outputs": []
    },
    {
      "cell_type": "code",
      "metadata": {
        "id": "wfHOWMyWfgcJ"
      },
      "source": [
        "# Testing on the Test Dataset\r\n",
        "test_rfc_loaded = rfc_loaded.fit(X_train, y_train)\r\n",
        "test_ypred = test_rfc_loaded.predict(df_test)"
      ],
      "execution_count": 117,
      "outputs": []
    },
    {
      "cell_type": "code",
      "metadata": {
        "id": "I7_p80P3fgYJ"
      },
      "source": [
        "df_test['Loan_Status'] = test_ypred"
      ],
      "execution_count": 118,
      "outputs": []
    },
    {
      "cell_type": "code",
      "metadata": {
        "colab": {
          "base_uri": "https://localhost:8080/"
        },
        "id": "QtlHGnjijiDm",
        "outputId": "9185072c-d00a-49a1-97e6-654d90390f41"
      },
      "source": [
        "df_test['Loan_Status'].value_counts()"
      ],
      "execution_count": 119,
      "outputs": [
        {
          "output_type": "execute_result",
          "data": {
            "text/plain": [
              "1    196\n",
              "0    171\n",
              "Name: Loan_Status, dtype: int64"
            ]
          },
          "metadata": {
            "tags": []
          },
          "execution_count": 119
        }
      ]
    },
    {
      "cell_type": "markdown",
      "metadata": {
        "id": "1xo0RaKvjt-I"
      },
      "source": [
        "### *Here the Status is stored in 1 and 0, so we will replace it to get Y / N*"
      ]
    },
    {
      "cell_type": "code",
      "metadata": {
        "id": "aReLewHDfgSQ"
      },
      "source": [
        "df_test.Loan_Status = df_test.Loan_Status.replace('1', 'Y')\r\n",
        "df_test.Loan_Status = df_test.Loan_Status.replace('0', 'N')"
      ],
      "execution_count": 121,
      "outputs": []
    },
    {
      "cell_type": "markdown",
      "metadata": {
        "id": "04HS9SGXq2-Z"
      },
      "source": [
        "### *Adding back the dropped 'Loan_ID' to the test dataset*"
      ]
    },
    {
      "cell_type": "code",
      "metadata": {
        "id": "t1AzLGbYprMp"
      },
      "source": [
        "df_test['Loan_ID'] = df.Loan_ID"
      ],
      "execution_count": 125,
      "outputs": []
    },
    {
      "cell_type": "code",
      "metadata": {
        "id": "JUGGTp3Rqw44"
      },
      "source": [
        "df_test.head()"
      ],
      "execution_count": null,
      "outputs": []
    },
    {
      "cell_type": "markdown",
      "metadata": {
        "id": "gJZOF8kgrDsx"
      },
      "source": [
        "### *Saving the prediction file to 'output.csv'*"
      ]
    },
    {
      "cell_type": "code",
      "metadata": {
        "id": "A_0ZguBBj7_q"
      },
      "source": [
        "df_test = df_test[['Loan_ID', 'Loan_Status']].to_csv('output.csv',  index=True, header=True)"
      ],
      "execution_count": 128,
      "outputs": []
    },
    {
      "cell_type": "code",
      "metadata": {
        "id": "jtJY_GBEsGB7"
      },
      "source": [
        ""
      ],
      "execution_count": null,
      "outputs": []
    }
  ]
}